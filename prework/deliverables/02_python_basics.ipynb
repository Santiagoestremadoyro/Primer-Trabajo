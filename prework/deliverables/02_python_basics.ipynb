{
 "cells": [
  {
   "cell_type": "markdown",
   "id": "1ccbf49d",
   "metadata": {},
   "source": [
    "![](https://api.brandy.run/core/core-logo-wide)\n",
    "\n",
    "# Python Basics"
   ]
  },
  {
   "cell_type": "markdown",
   "id": "b0a6f67c",
   "metadata": {
    "toc": true
   },
   "source": [
    "<div class=\"toc\"><ul class=\"toc-item\"><li><span><a href=\"#Variables-and-DataTypes\" data-toc-modified-id=\"Variables-and-DataTypes-1\"><span class=\"toc-item-num\">1&nbsp;&nbsp;</span>Variables and DataTypes</a></span><ul class=\"toc-item\"><li><span><a href=\"#Asigning-a-variable\" data-toc-modified-id=\"Asigning-a-variable-1.1\"><span class=\"toc-item-num\">1.1&nbsp;&nbsp;</span>Asigning a variable</a></span></li><li><span><a href=\"#Checking-variable-types\" data-toc-modified-id=\"Checking-variable-types-1.2\"><span class=\"toc-item-num\">1.2&nbsp;&nbsp;</span>Checking variable types</a></span></li><li><span><a href=\"#Casting\" data-toc-modified-id=\"Casting-1.3\"><span class=\"toc-item-num\">1.3&nbsp;&nbsp;</span>Casting</a></span></li><li><span><a href=\"#Creating-a-new-list\" data-toc-modified-id=\"Creating-a-new-list-1.4\"><span class=\"toc-item-num\">1.4&nbsp;&nbsp;</span>Creating a new list</a></span></li><li><span><a href=\"#Removing-elements\" data-toc-modified-id=\"Removing-elements-1.5\"><span class=\"toc-item-num\">1.5&nbsp;&nbsp;</span>Removing elements</a></span></li><li><span><a href=\"#Index-and-Count\" data-toc-modified-id=\"Index-and-Count-1.6\"><span class=\"toc-item-num\">1.6&nbsp;&nbsp;</span>Index and Count</a></span></li><li><span><a href=\"#Accessing-tuple-elements-and-f-strings\" data-toc-modified-id=\"Accessing-tuple-elements-and-f-strings-1.7\"><span class=\"toc-item-num\">1.7&nbsp;&nbsp;</span>Accessing tuple elements and f-strings</a></span></li><li><span><a href=\"#Split,-Join-and-string-methods\" data-toc-modified-id=\"Split,-Join-and-string-methods-1.8\"><span class=\"toc-item-num\">1.8&nbsp;&nbsp;</span>Split, Join and string methods</a></span></li><li><span><a href=\"#Counting-digits\" data-toc-modified-id=\"Counting-digits-1.9\"><span class=\"toc-item-num\">1.9&nbsp;&nbsp;</span>Counting digits</a></span></li></ul></li><li><span><a href=\"#Control-Flow\" data-toc-modified-id=\"Control-Flow-2\"><span class=\"toc-item-num\">2&nbsp;&nbsp;</span>Control Flow</a></span><ul class=\"toc-item\"><li><span><a href=\"#Guided-example\" data-toc-modified-id=\"Guided-example-2.1\"><span class=\"toc-item-num\">2.1&nbsp;&nbsp;</span>Guided example</a></span></li><li><span><a href=\"#Simple-calculator\" data-toc-modified-id=\"Simple-calculator-2.2\"><span class=\"toc-item-num\">2.2&nbsp;&nbsp;</span>Simple calculator</a></span></li><li><span><a href=\"#Dog-Registry\" data-toc-modified-id=\"Dog-Registry-2.3\"><span class=\"toc-item-num\">2.3&nbsp;&nbsp;</span>Dog Registry</a></span></li><li><span><a href=\"#Largest-Prime\" data-toc-modified-id=\"Largest-Prime-2.4\"><span class=\"toc-item-num\">2.4&nbsp;&nbsp;</span>Largest Prime</a></span></li></ul></li></ul></div>"
   ]
  },
  {
   "cell_type": "markdown",
   "id": "1a832024",
   "metadata": {},
   "source": [
    "# ¿Que es un lenguaje de programación?"
   ]
  },
  {
   "cell_type": "code",
   "execution_count": 1,
   "id": "a9bdb0c2",
   "metadata": {},
   "outputs": [
    {
     "data": {
      "text/html": [
       "\n",
       "        <iframe\n",
       "            width=\"560\"\n",
       "            height=\"315\"\n",
       "            src=\"https://www.youtube.com/embed/XASY30EfGAc\"\"\n",
       "            frameborder=\"0\"\n",
       "            allowfullscreen\n",
       "        ></iframe>\n",
       "        "
      ],
      "text/plain": [
       "<IPython.lib.display.IFrame at 0x1078ce340>"
      ]
     },
     "execution_count": 1,
     "metadata": {},
     "output_type": "execute_result"
    }
   ],
   "source": [
    "from IPython.display import IFrame\n",
    "IFrame('https://www.youtube.com/embed/XASY30EfGAc\"', width=560, height=315)"
   ]
  },
  {
   "cell_type": "markdown",
   "id": "bf06274a",
   "metadata": {},
   "source": [
    "Fuente: Women Techmakers"
   ]
  },
  {
   "cell_type": "markdown",
   "id": "8e1aff52",
   "metadata": {},
   "source": [
    "## Variables and DataTypes\n",
    "\n",
    "Los ejercícios de la sección 1 acompañan la lección `Variables and Data Types` de el prework. Practicaremos con los tipos basicos de datos en Python.\n",
    "\n",
    "### Asigning a variable\n",
    "\n",
    "En la celda abajo, asigne un valor entre 0 y 100 a la variable x, imprimela, asignale un valor que sea un texto y imprimela otra vez. Sustituye las lineas de los comentarios."
   ]
  },
  {
   "cell_type": "code",
   "execution_count": null,
   "id": "d5080fdc",
   "metadata": {},
   "outputs": [],
   "source": [
    "# Asigna un numero a x\n",
    "print(x)\n",
    "# Asigna un texto a x\n",
    "print(x)"
   ]
  },
  {
   "cell_type": "markdown",
   "id": "be0dc301",
   "metadata": {},
   "source": [
    "### Checking variable types\n",
    "Asigna diferentes tipos de datos a variables y prueba el resultado de la función `type`. Los 4 tipos escritos son sugerencias, pero puedes probar los que quieras. \n",
    "\n",
    "**Bonus:** Escribe un condicional `if` para de una lista de valores imprimir solo aquellos que sean de un tipo específico."
   ]
  },
  {
   "cell_type": "code",
   "execution_count": null,
   "id": "e1062c62",
   "metadata": {},
   "outputs": [],
   "source": [
    "entero = None\n",
    "decimal = None\n",
    "lista = None\n",
    "dicionario = None"
   ]
  },
  {
   "cell_type": "markdown",
   "id": "5760c86f",
   "metadata": {},
   "source": [
    "### Casting\n",
    "Escribe un programa en python que itere sobre una lista de valores de diferentes tipos y les sume todos."
   ]
  },
  {
   "cell_type": "code",
   "execution_count": null,
   "id": "0f21f83b",
   "metadata": {},
   "outputs": [],
   "source": [
    "lista = [1,2,\"3.0\",4.5, \"6\", 9, 10, \"42\"]\n",
    "\n",
    "# Tu codigo va aqui"
   ]
  },
  {
   "cell_type": "markdown",
   "id": "ef2204f3",
   "metadata": {},
   "source": [
    "### Creating a new list\n",
    "Defina en una variable una lista vacia. Eso se hace con apenas corchetes, i.e.: `x=[]`\n",
    "\n",
    "En seguida, utilizando un bucle for, itere por los numeros del 1 al 200 y añada a la lista solo los multiplos de 3. Cuente cuantos elementos hay en la lista final.\n",
    "\n",
    "**TIP:** Para saber la longitud de una lista se puede usar la función `len`: len(lst)"
   ]
  },
  {
   "cell_type": "code",
   "execution_count": null,
   "id": "2f352152",
   "metadata": {},
   "outputs": [],
   "source": [
    "# Tu codigo va aqui"
   ]
  },
  {
   "cell_type": "markdown",
   "id": "c4075c92",
   "metadata": {},
   "source": [
    "### Removing elements\n",
    "\n",
    "De la siguiente lista, remova todos los numeros negativos. Imprima la lista resultante.\n",
    "\n",
    "**Bonus:** Imprime la lista resultante ordenada ascendientemente y hazlo alterando la lista existente, sin crear una nueva."
   ]
  },
  {
   "cell_type": "code",
   "execution_count": null,
   "id": "3de9f547",
   "metadata": {},
   "outputs": [],
   "source": [
    "lst = [-125, 243, 332, -70, 310, 213, -349, 499, 164, 74, 327, 87, -298, -281, 184, 212.5, -97, 22, -9, -246, 392, \n",
    "       -397, 471, -354, 195, 359, 136, -100, -350, -50, 329, -331, 218, -418, 415, 469.77, -182, -129, -328, -450, \n",
    "       293, -485, -333, 427, -291, -413, 0, 157, 76, 81, 35, 345, 337, 20, 94.21, 65, -120, 185, -192, 120, 491, \n",
    "       453, -472, 122.11, -242, 416, 86, 114, 229, -312, 228, -284, 122, -256, -326, 425, 252, 404, -439, -457, -298, \n",
    "       297, -133, 490, -454, -193.32, 235, -460, 422, 379, -438, -291, 344, 41.5, 310.0, -199, 113, 484, 437, 47]\n",
    "\n",
    "# Tu codigo va aqui"
   ]
  },
  {
   "cell_type": "markdown",
   "id": "7c2fe6f4",
   "metadata": {},
   "source": [
    "### Index and Count\n",
    "\n",
    "A partir de la siguiente lista:\n",
    "- Cuenta cuantas veces sale el numero 0\n",
    "- Crea una list con los indices de todas las ocurrencias del numero 1"
   ]
  },
  {
   "cell_type": "code",
   "execution_count": null,
   "id": "79eb6c6c",
   "metadata": {},
   "outputs": [],
   "source": [
    "lst = [4, 6, 1, 8, 6, 4, 3, 5, 5, 9, 7, 2, 3, 6, 4, 0, 8, 5, 6, 3, 9, 3, 7, 1, 7, 5, 7, 4, 6, 1, 9, 0, 6, 6, 3, 7, \n",
    "       2, 1, 2, 6, 7, 2, 1, 7, 9, 7, 1, 3, 6, 5, 6, 4, 6, 5, 1, 2, 0, 5, 9, 9, 8, 3, 7, 3, 4, 6, 1, 5, 5, 4, 1, 9, \n",
    "       3, 0, 5, 5, 1, 5, 1, 8, 4, 5, 6, 8, 4, 2, 2, 4, 0, 7, 6, 9, 3, 0, 3, 2, 8, 5, 1, 8]\n",
    "\n",
    "# Tu codigo va aqui"
   ]
  },
  {
   "cell_type": "markdown",
   "id": "7899f920",
   "metadata": {},
   "source": [
    "### Accessing tuple elements and f-strings\n",
    "\n",
    "En la siguiente celta se encuentran dos puntos, llamados `start` y `finish`, con formato `(horas, minutos, segundos)`.\n",
    "Calcule:\n",
    "\n",
    "- Cuantos segundos pasaron entre start y finish\n",
    "- La misma respuesta en el formato `\"Total: X horas, Y minutos y Z segundos\"`"
   ]
  },
  {
   "cell_type": "code",
   "execution_count": null,
   "id": "a3726e0b",
   "metadata": {},
   "outputs": [],
   "source": [
    "start = (2,25,13)\n",
    "finish = (18,3,55)\n",
    "\n",
    "# Tu codigo va aqui"
   ]
  },
  {
   "cell_type": "markdown",
   "id": "666e7867",
   "metadata": {},
   "source": [
    "### Split, Join and string methods\n",
    "\n",
    "Usando la siguiente cita del programador Martin Fowler:\n",
    "- Imprime la cita al contrario\n",
    "- Genere una lista de todas las palabras presentes en orden alfabetico.\n",
    "- Una todas las palabras de la lista anterior con el caracter `~` como separador. Ejemplo:`\"a~any~can~can~c...\"`"
   ]
  },
  {
   "cell_type": "code",
   "execution_count": null,
   "id": "1bb0850b",
   "metadata": {},
   "outputs": [],
   "source": [
    "quote = \"Any fool can write code that a computer can understand. Good programmers write code that humans can understand.\"\n",
    "\n",
    "# Tu codigo va aqui"
   ]
  },
  {
   "cell_type": "markdown",
   "id": "55c597dd",
   "metadata": {},
   "source": [
    "### Counting digits\n",
    "En ese ultimo ejercício de la sección 1, crea un bucle for iterando por los numeros de 0 a 100. Deberás:\n",
    "- Contar cuantas veces aparece cada digito del 0 al 9 en todos los numeros de ese rango. El resultado esperado es un diccionario cuyas keys sean `1,2,3,4,5,6,7,8,9,0` y los values el numero de repeticiones de cada uno.\n",
    "- Crear una lista de los numeros cuyos digitos no se repiten. Deberan incluirse todos los numeros 1 digito y numeros como el 102, pero no 101."
   ]
  },
  {
   "cell_type": "code",
   "execution_count": null,
   "id": "81214565",
   "metadata": {},
   "outputs": [],
   "source": [
    "# Tu codigo va aqui"
   ]
  },
  {
   "cell_type": "markdown",
   "id": "d131dd2f",
   "metadata": {},
   "source": [
    "## Control Flow\n",
    "Los ejercícios de la sección 2 acompañan la lección `Control Flow` de el prework. Aplicaremos los conceptos de la sección anterior y praticaremos la organización de datos y procesos."
   ]
  },
  {
   "cell_type": "markdown",
   "id": "befd4432",
   "metadata": {},
   "source": [
    "### Guided example\n",
    "Encontrar el mayor numero palíndromo en una lista de 1000 numeros aleatórios entre 10 y 10000."
   ]
  },
  {
   "cell_type": "code",
   "execution_count": 2,
   "id": "8525faf4",
   "metadata": {},
   "outputs": [],
   "source": [
    "import numpy as np\n",
    "# Generamos una lista de numeros aleatorios\n",
    "nums = np.random.randint(10,10_000, 1_000)"
   ]
  },
  {
   "cell_type": "markdown",
   "id": "dd76f15e",
   "metadata": {},
   "source": [
    "- Abordaje 1\n",
    "\n",
    "Separar los palíndromos primero y buscar el mayor dentre ellos"
   ]
  },
  {
   "cell_type": "code",
   "execution_count": 3,
   "id": "74f485f2",
   "metadata": {},
   "outputs": [
    {
     "name": "stdout",
     "output_type": "stream",
     "text": [
      "327 µs ± 14.5 µs per loop (mean ± std. dev. of 7 runs, 1000 loops each)\n"
     ]
    }
   ],
   "source": [
    "%%timeit -n 1000 # Esta linea haz con que jupyter calcule el tiempo medio de ejecución de esa celda en mil repeticiones\n",
    "\n",
    "palindromes = []\n",
    "for num in nums:\n",
    "    num = str(num)\n",
    "    if num == num[::-1]:\n",
    "        palindromes.append(int(num))\n",
    "        \n",
    "max_palindrome = max(palindromes)"
   ]
  },
  {
   "cell_type": "markdown",
   "id": "acd72c55",
   "metadata": {},
   "source": [
    "- Abordaje 2\n",
    "\n",
    "Ordenar primero todos los numeros del mayor al menor, despues buscar los palíndromos y parar cuando encontremos uno."
   ]
  },
  {
   "cell_type": "code",
   "execution_count": 4,
   "id": "075d273f",
   "metadata": {},
   "outputs": [
    {
     "name": "stdout",
     "output_type": "stream",
     "text": [
      "173 µs ± 14.5 µs per loop (mean ± std. dev. of 7 runs, 1000 loops each)\n"
     ]
    }
   ],
   "source": [
    "%%timeit -n 1000 # Esta linea haz con que jupyter calcule el tiempo medio de ejecución de esa celda en mil repeticiones\n",
    "\n",
    "nums_sorted = sorted(nums, reverse=True)\n",
    "\n",
    "for num in nums:\n",
    "    num = str(num)\n",
    "    if num == num[::-1]:\n",
    "        max_palindrome = num\n",
    "        break"
   ]
  },
  {
   "cell_type": "markdown",
   "id": "6a7e9921",
   "metadata": {},
   "source": [
    "Utilizando de las herramientas de control y organización de los datos, resuelva los siguientes ejercícios:"
   ]
  },
  {
   "cell_type": "markdown",
   "id": "e23eae76",
   "metadata": {},
   "source": [
    "### Simple calculator\n",
    "En ese ejercício debes escribir un programa que funcione como una calculadora. Los valores `a` y `b` deben ser numeros enteros y `operation` debe ser uno de los caracteres `'+', '-', '*', '/'`.\n",
    "Despues que el usuario escribir los 3 argumentos, la calculadora debe imprimir el resultado de la operación. \n",
    "\n",
    "**TIP:** La función `input` siempre devuelve como resultado un `str`, tendrás que hacer casting al tipo correcto."
   ]
  },
  {
   "cell_type": "code",
   "execution_count": null,
   "id": "11aaee4a",
   "metadata": {},
   "outputs": [],
   "source": [
    "a = input(\"Type in first number: \")\n",
    "operation = input(\"What is the desired operation? \")\n",
    "b = input(\"Type in the second number: \")\n",
    "\n",
    "\n",
    "# Tu codigo va aqui"
   ]
  },
  {
   "cell_type": "markdown",
   "id": "1009cdc3",
   "metadata": {},
   "source": [
    "### Dog Registry\n",
    "Un amigo que es cuidador de perros ha apuntado datos sobre los perros que cuida. Como se enteró de que estás haciendo un bootcamp de Data, él te ha pedido ayuda para sacar algunas informaciones de esos datos:\n",
    "- ¿Quien es el dueño al cual cuida los perros más días en la semana?\n",
    "- ¿Cual es el día de la semana en que cuida de más perros?\n",
    "- ¿Quien es el dueño que tiene más perros?\n",
    "\n",
    "**Bonus:** ¿Harías algún cambio a la manera como estan organizados los datos?"
   ]
  },
  {
   "cell_type": "code",
   "execution_count": null,
   "id": "1ce8cef9",
   "metadata": {},
   "outputs": [],
   "source": [
    "data = [('Oreo', 'Liam', 'Thursday'),\n",
    "        ('Chippy', 'Olivia', 'Tuesday'),\n",
    "        ('Luna', 'Olivia', 'Friday'),\n",
    "        ('Cujo', 'Noah', 'Friday'),\n",
    "        ('Cooper', 'Emma', 'Friday'),\n",
    "        ('Rex', 'Emma', 'Friday'),\n",
    "        ('Daisy', 'Emma', 'Friday'),\n",
    "        ('Molly', 'Oliver', 'Thursday'),\n",
    "        ('Buddy', 'Oliver', 'Tuesday'),\n",
    "        ('Tucker', 'Ava', 'Monday'),\n",
    "        ('Bentley', 'Elijah', 'Monday'),\n",
    "        ('Riley', 'Charlotte', 'Monday'),\n",
    "        ('Bear', 'William', 'Wednesday'),\n",
    "        ('Duke', 'Sophia', 'Tuesday'),\n",
    "        ('Jax', 'James', 'Sunday'),\n",
    "        ('Rocky', 'Amelia', 'Thursday'),\n",
    "        ('Lily', 'Benjamin', 'Saturday'),\n",
    "        ('Milo', 'Isabella', 'Sunday'),\n",
    "        ('Piper', 'Lucas', 'Monday'),\n",
    "        ('Toby', 'Lucas', 'Monday'),\n",
    "        ('Zeus', 'Lucas', 'Monday'),\n",
    "        ('Ellie', 'Mia', 'Friday'),\n",
    "        ('Nala', 'Mia', 'Wednesday'),\n",
    "        ('Roxy', 'Mia', 'Monday'),\n",
    "        ('Winston', 'Mia', 'Tuesday'),\n",
    "        ('Gracie', 'Henry', 'Wednesday'),\n",
    "        ('Coco', 'Evelyn', 'Monday'),\n",
    "        ('Murphy', 'Alexander', 'Sunday'),\n",
    "        ('Dexter', 'Harper', 'Monday')]\n",
    "\n",
    "\n",
    "# Tu codigo va aqui"
   ]
  },
  {
   "cell_type": "markdown",
   "id": "eaaaac50",
   "metadata": {},
   "source": [
    "### Largest Prime\n",
    "\n",
    "Escribe un programa en que dado un valor `n`, encuentre el mayor numero primo menor que `n`.\n",
    "\n",
    "**TIP:** Un numero primo es el que no es divisible por ningun valor salvo 1 y si mismo."
   ]
  },
  {
   "cell_type": "code",
   "execution_count": null,
   "id": "71e67a4e",
   "metadata": {},
   "outputs": [],
   "source": [
    "n = input(\"Input maximum value: \")\n",
    "\n",
    "\n",
    "# Tu codigo va aqui"
   ]
  }
 ],
 "metadata": {
  "kernelspec": {
   "display_name": "Python 3",
   "language": "python",
   "name": "python3"
  },
  "language_info": {
   "codemirror_mode": {
    "name": "ipython",
    "version": 3
   },
   "file_extension": ".py",
   "mimetype": "text/x-python",
   "name": "python",
   "nbconvert_exporter": "python",
   "pygments_lexer": "ipython3",
   "version": "3.9.4"
  },
  "toc": {
   "base_numbering": 1,
   "nav_menu": {},
   "number_sections": true,
   "sideBar": true,
   "skip_h1_title": true,
   "title_cell": "Table of Contents",
   "title_sidebar": "Contents",
   "toc_cell": true,
   "toc_position": {},
   "toc_section_display": true,
   "toc_window_display": true
  }
 },
 "nbformat": 4,
 "nbformat_minor": 5
}
