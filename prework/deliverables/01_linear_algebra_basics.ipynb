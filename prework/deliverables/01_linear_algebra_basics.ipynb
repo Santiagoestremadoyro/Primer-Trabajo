{
 "cells": [
  {
   "cell_type": "markdown",
   "metadata": {},
   "source": [
    "![](https://api.brandy.run/core/core-logo-wide)\n",
    "\n",
    "## Entregable prework algebra lineal\n",
    "\n",
    "Representa las matrices A y B en dos variables usando el paquete numpy:\n",
    "\n",
    "$$\n",
    "\\begin{equation}A=\n",
    "\\begin{bmatrix}\n",
    "21 & 32 & 43 & 54\\\\\n",
    "22 & 33 & 44 & 56\\\\\n",
    "23 & 34 & 45 & 57\\\\\n",
    "24 & 35 & 46 & 58\\\\\n",
    "\\end{bmatrix}\n",
    "\\end{equation}\n",
    "$$\n",
    "\n",
    "$$\n",
    "\\begin{equation}B=\n",
    "\\begin{bmatrix}\n",
    "1 & 5 & 9 & 13\\\\\n",
    "2 & 6 & 10 & 14\\\\\n",
    "3 & 7 & 11 & 15\\\\\n",
    "4 & 8 & 12 & 16\\\\\n",
    "\\end{bmatrix}\n",
    "\\end{equation}\n",
    "$$\n",
    "\n"
   ]
  },
  {
   "cell_type": "code",
   "execution_count": 5,
   "metadata": {},
   "outputs": [],
   "source": [
    "# Escribe aquí tu código:\n",
    "\n",
    "# a =\n",
    "\n",
    "# b ="
   ]
  },
  {
   "cell_type": "markdown",
   "metadata": {},
   "source": [
    "Genera una matriz identidad de 4 filas y 4 columnas"
   ]
  },
  {
   "cell_type": "code",
   "execution_count": 6,
   "metadata": {},
   "outputs": [],
   "source": [
    "# Escribe aquí tu código:\n",
    "\n",
    "# id = "
   ]
  },
  {
   "cell_type": "markdown",
   "metadata": {},
   "source": [
    "Realiza la inversa de la matriz `A`:"
   ]
  },
  {
   "cell_type": "code",
   "execution_count": 4,
   "metadata": {},
   "outputs": [],
   "source": [
    "# Escribe aquí tu código:\n",
    "\n",
    "# A_i = "
   ]
  },
  {
   "cell_type": "markdown",
   "metadata": {},
   "source": [
    "¿Es la matriz A invertible? Si es así, demuestra que el cálculo de la inversa es correcto"
   ]
  },
  {
   "cell_type": "code",
   "execution_count": 7,
   "metadata": {},
   "outputs": [],
   "source": [
    "# Escribe aquí tu código:\n"
   ]
  },
  {
   "cell_type": "code",
   "execution_count": null,
   "metadata": {},
   "outputs": [],
   "source": []
  }
 ],
 "metadata": {
  "kernelspec": {
   "display_name": "Python 3",
   "language": "python",
   "name": "python3"
  },
  "language_info": {
   "codemirror_mode": {
    "name": "ipython",
    "version": 3
   },
   "file_extension": ".py",
   "mimetype": "text/x-python",
   "name": "python",
   "nbconvert_exporter": "python",
   "pygments_lexer": "ipython3",
   "version": "3.9.4"
  },
  "toc": {
   "base_numbering": 1,
   "nav_menu": {},
   "number_sections": true,
   "sideBar": true,
   "skip_h1_title": true,
   "title_cell": "Table of Contents",
   "title_sidebar": "Contents",
   "toc_cell": false,
   "toc_position": {},
   "toc_section_display": true,
   "toc_window_display": true
  }
 },
 "nbformat": 4,
 "nbformat_minor": 4
}
