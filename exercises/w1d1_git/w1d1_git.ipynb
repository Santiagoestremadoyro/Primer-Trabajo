{
 "cells": [
  {
   "cell_type": "markdown",
   "id": "2c8a314a",
   "metadata": {},
   "source": [
    "# CORE Code School\n",
    "\n",
    "# Objectivos\n",
    "- Asimilar conceptos basicos de git, comandos y flujos\n",
    "- Uso de git y github, fork, clone, commit, push, pull request\n",
    "\n",
    "# Instrucciones\n",
    "- Contesta a todas las preguntas utilizando las celdas de tipo Markdown. \n",
    "- Entrega tu trabajo mediante pull request al repo. Acuerdate de crear una nueva rama para ese ejercício (desde master) y nombrar tu pull request segun el patron `[W1D1] <mi_nombre>`."
   ]
  },
  {
   "cell_type": "markdown",
   "id": "c677ab62",
   "metadata": {},
   "source": [
    "### Describe en tus palabras las ventajas de usar un sistema de control de versión como git\n",
    "\n",
    "Es una muy buena manera de poder controlar el trabajo de muchos desarrolladores en un solo proyecto. Teniendo siempre una rama principal en la cual el código este limpio y pudiendo cada desarrollador escribir código en su rama sin corromper la rama principal "
   ]
  },
  {
   "cell_type": "markdown",
   "id": "46f614bc",
   "metadata": {},
   "source": [
    "### ¿Cual es el comando que descarga un repositorio de Github a tu ordenador?\n",
    "\n",
    "git clone"
   ]
  },
  {
   "cell_type": "markdown",
   "id": "027d413e",
   "metadata": {},
   "source": [
    "### Al hacer commit en un repositorio en que estoy trabajando, ¿mi compañero puede ver esos cambios en Github? Justifica tu respuesta.\n",
    "\n",
    "no, ya que no se ha hecho un git pull y tu compañero todavía no puede ver los cambios que has hecho en el código principal"
   ]
  },
  {
   "cell_type": "markdown",
   "id": "cde61a1c",
   "metadata": {},
   "source": [
    "### ¿Cual es la diferencia entre `clone` y `fork`?\n",
    "\n",
    "la diferencia entre estos dos comandos es que git fork, crea una copia de ese repositorio deseadopero en github."
   ]
  },
  {
   "cell_type": "markdown",
   "id": "117449ec",
   "metadata": {},
   "source": [
    "### ¿Como creamos una nueva rama?\n",
    "\n",
    "git branch <nombre de la rama nueva>"
   ]
  },
  {
   "cell_type": "markdown",
   "id": "13ad505c",
   "metadata": {},
   "source": [
    "### ¿Siguen existiendo ambas ramas después de un merge? Si no, ¿cual deja de existir?\n",
    "\n",
    "no, la rama que sigue existiendo es la rama que se a considerado como principal"
   ]
  },
  {
   "cell_type": "markdown",
   "id": "38bed9da",
   "metadata": {},
   "source": [
    "### ¿Cual es el comando de git para verificar la condición actual de nuestro repo?\n",
    "\n",
    "git status"
   ]
  },
  {
   "cell_type": "markdown",
   "id": "8e3626fb",
   "metadata": {},
   "source": [
    "# Si en un determinado repo acabamos de crear un nuevo fichero llamado `connection_module.py`, ¿cuales son los pasos (comandos) que debemos seguir para asegurar que ese fichero pase a figurar tanto en el repo local como en el remoto? ¿Cual es la función de cada comando?\n",
    "\n",
    "git add <nombre del fichero>: sirve para empezar a controlar el fichero nombrado\n",
    "git commit: una foto del fichero y los cambios realizados\n",
    "git push: pasar todos los ficheros creados/cambiados al repositorio de github\n"
   ]
  },
  {
   "cell_type": "markdown",
   "id": "1f3266e0",
   "metadata": {},
   "source": [
    "![git status](img/gst.png)\n",
    "\n",
    "### El output del comando `git status` es como el de la imagen arriba. ¿Cuales ficheros tendrian sus cambios fijados con el comando `git commit -m \"update\"`?\n",
    "\n",
    "models.py"
   ]
  },
  {
   "cell_type": "markdown",
   "id": "dc638e29",
   "metadata": {},
   "source": [
    "### ¿La respuesta de la pregunta anterior seria la misma para `git commit -am \"update\"`?\n",
    "\n",
    "no ya que se agregaria tambien el fichero main.py"
   ]
  },
  {
   "cell_type": "markdown",
   "id": "ebde4f0b",
   "metadata": {},
   "source": [
    "### ¿Pueden haber diferentes repos remotos conectados a un mismo repo local?\n",
    "\n",
    "si"
   ]
  },
  {
   "cell_type": "markdown",
   "id": "8836dce9",
   "metadata": {},
   "source": [
    "### ¿Para que sirve el fichero `.gitignore`?\n",
    "\n",
    "para colovar informacion que se crea por defecto pero no nos interesa que se lea/integre en el codigo principal"
   ]
  },
  {
   "cell_type": "markdown",
   "id": "23cfb67c",
   "metadata": {},
   "source": [
    "### ¿Cual es el flujo de trabajo para crear una nueva funcionalidad a un software en el sistema de continuous delivery (gitflow)?\n",
    "\n",
    "los pasos para poder crear una nueva funcionalidad son:\n",
    "1- git clone: clonar el repositorio deseado \n",
    "2- git branch: para poder crear una rama nueva y empezar a trabajar en la nueva funcionalidad.\n",
    "3- Modificar/crear ficheros o archivos necesarios\n",
    "4- Git add: para agregar los archivos creados y que git los empiece a trackear.\n",
    "5- Git commit: una foto de los cambios realizados, a la cual siempre se puede volver.\n",
    "6- git push: pasar los cambios realizados a el repositorio de github"
   ]
  }
 ],
 "metadata": {
  "kernelspec": {
   "display_name": "Python 3 (ipykernel)",
   "language": "python",
   "name": "python3"
  },
  "language_info": {
   "codemirror_mode": {
    "name": "ipython",
    "version": 3
   },
   "file_extension": ".py",
   "mimetype": "text/x-python",
   "name": "python",
   "nbconvert_exporter": "python",
   "pygments_lexer": "ipython3",
   "version": "3.9.15"
  },
  "toc": {
   "base_numbering": 1,
   "nav_menu": {},
   "number_sections": true,
   "sideBar": true,
   "skip_h1_title": true,
   "title_cell": "Table of Contents",
   "title_sidebar": "Contents",
   "toc_cell": false,
   "toc_position": {
    "height": "calc(100% - 180px)",
    "left": "10px",
    "top": "150px",
    "width": "288px"
   },
   "toc_section_display": true,
   "toc_window_display": true
  }
 },
 "nbformat": 4,
 "nbformat_minor": 5
}
