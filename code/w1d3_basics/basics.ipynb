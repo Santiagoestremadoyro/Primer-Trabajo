{
 "cells": [
  {
   "cell_type": "markdown",
   "id": "00fcffeb",
   "metadata": {},
   "source": [
    "![](https://api.brandy.run/core/core-logo-wide)\n",
    "\n",
    "# Python Basics: Data Types and Operations"
   ]
  },
  {
   "cell_type": "markdown",
   "id": "5aba328c",
   "metadata": {},
   "source": [
    "## ¿Qué es Python?\n",
    "[Python](https://en.wikipedia.org/wiki/Python_(programming_language)) es un lenguaje de programación `imperativo` y de `alto nivel`, creado por Guido van Rossum y mantenido por la Python Software Foundation.\n",
    "\n",
    "Ese lenguaje tuvo su lanzamiento en el año 1991. Con más de 30 años, Python sigue siendo un lenguaje de programación moderno, con cada vez más uso en la industria y con una comunidad cada vez mayor de desarolladores dedicados a ese lenguaje.\n",
    "\n",
    "Por su flexibilidad, sintaxis clara y amplo suporte (por su comunidad y gran cantidad de librerias open source) es un favorito entre Data Analysts, Data Scientists, com amplo uso para el Machine Learning y el Big Data.\n",
    "\n",
    "### El alto nivel\n",
    "No es presunción llamar a Python un lenguaje de alto nivel. 😎\n",
    "\n",
    "En programación alto y bajo nivel tiene un significado específico.\n",
    "\n",
    "![High Level](img/high_level.png)\n",
    "\n",
    "Todos los ordenadores dependen de algun tipo de CPU, ese es el componente electrónico responsable por el procesado. Muchas veces oímos que la CPU es el cerebro del ordenador y por lo tanto imaginamos que funcione como nuestro cerebro, pero eso está muy lejos de la verdad. La CPU simplemente procesa impulsos y señales eléctricas que nosotros representamos como unos y ceros.\n",
    "\n",
    "Decir que un lenguaje de programación es de bajo nivel significa que programar en ese lenguaje es programar más cercano a esos señales y impulsos electricos. Sin ninguna abstracción, estariamos basicamente dibujando cosas complejas con componentes muy primitivos.\n",
    "\n",
    "De ahí el nacimieto y evolución de los lenguajes de alto nivel, cuyo proposito es permitir que podamos programar con un lenguaje lo más parecido con un lenguaje natural como el inglés. Eso permite que escribamos programas más complejos y de manera más eficiente, mientras el proprio ordenador maneja los detalles fisicos del procesador. 👾\n",
    "\n",
    "<div style=\"width: 100%;\">\n",
    "        <div style=\"width: 50%; float: left\"> \n",
    "            <img/ src=\"img/cpu.jpeg\">\n",
    "        </div>\n",
    "        <div style=\"margin-left: 50%;;\"> \n",
    "            <img/ src=\"img/cpu_inside.png\" width=400>\n",
    "        </div>\n",
    "    </div>\n",
    "    \n",
    "A la derecha vemos el interior de un procesador 1802, de 8 bit del año 1974. ¡Los ordenadores que tenemos hoy son mucho más complejos!\n",
    "\n",
    "### ¡Imperativo!\n",
    "\n",
    "El hecho de llamar a python (y otros lenguajes) de imperativos tiene que ver con su propósito, dar ordenes. Un script, el codigo de un programa, son una serie de instrucciones para que el ordenador siga. A una serie de instrucciones también se llama `algoritmo`. \n",
    "\n",
    "En un lenguaje de programación de lo más alto nivel posible (inimaginable), programar seria decir al ordenador `haz eso`. Pero todavía no hemos conseguido un ordenador capaz de entender eso. Con lo que tienen de rápidos para la matematica, les falta en logica (y sentido comun). 🤣\n",
    "\n",
    "Por lo tanto tenemos que partir lo que queremos en instrucciones más pequenitas, que los ordenadores puedan comprender. Y para eso usamos de un lenguaje, como Python, que define una serie de reglas estruturadas para eso."
   ]
  },
  {
   "cell_type": "markdown",
   "id": "bafdf287",
   "metadata": {},
   "source": [
    "## La sintaxis\n",
    "\n",
    "Como todo lenguaje, Python tiene sus reglas, a las cuales nos referimos como `sintaxis`. Esas reglas son los elementos básicos del lenguaje y la manera como combinamos y interactuamos con ellos.\n",
    "\n",
    "### Las variables\n",
    "\n",
    "La variable es un contenedor de algun objeto, y esos objetos son los elementos más básicos, los átomos de un programa. En Python, todos los elementos son objetos y esos objetos pueden ser de diferentes tipos:\n",
    "\n",
    "![Data Types](img/data_types.png)\n",
    "\n",
    "Los tipos (o classes) arriba son aquellos que consideramos como los tipos básicos de datos. Además de esos, python contiene por defecto los tipos `None`, `function` y `type`.\n",
    "\n",
    "Pero no nos limitamos a los tipos por defecto, sino que también se pueden crear nuevos tipos. Al largo de nuestra trayectoria en Python utilizaremos objetos de muchos tipos y podremos crear también nuestros próprios.\n",
    "\n",
    "Las variables pueden contener objetos de cualquier tipo, pero es importante conocer los tipos de nuestras variables pues no todas las operaciones son compatibles con cualquier tipo."
   ]
  },
  {
   "cell_type": "code",
   "execution_count": 4,
   "id": "1785057b-eac1-4d07-aea7-23089747b44e",
   "metadata": {},
   "outputs": [
    {
     "name": "stdout",
     "output_type": "stream",
     "text": [
      "1 -> <class 'int'>\n",
      "2.2 -> <class 'float'>\n",
      "(5+7j) -> <class 'complex'>\n",
      "{1: 2} -> <class 'dict'>\n",
      "True -> <class 'bool'>\n",
      "{1} -> <class 'set'>\n",
      "1 -> <class 'str'>\n",
      "(1, 2) -> <class 'tuple'>\n",
      "[1] -> <class 'list'>\n",
      "None -> <class 'NoneType'>\n",
      "<built-in function print> -> <class 'builtin_function_or_method'>\n",
      "<class 'int'> -> <class 'type'>\n"
     ]
    }
   ],
   "source": [
    "for tipo in [1, 2.2, 5+7j, {1:2}, True, {1}, \"1\", (1,2), [1], None, print, int]:\n",
    "    print(f\"{tipo} -> {type(tipo)}\")"
   ]
  },
  {
   "cell_type": "markdown",
   "id": "9db3d623",
   "metadata": {},
   "source": [
    "## Methods and Operations\n",
    "En esa lección vamos repasar algunos de los tipos patrón de Python, sus operaciones y metodos. Un metodo es una función, pero que pertenence a un tipo de dato específico. Se pueden identificar por la manera como se llaman a esas funciones.\n",
    "\n",
    "Al llamar un metodo, lo hacemos despues del objeto, separando por un `.`, tal como en:\n",
    "\n",
    "```python\n",
    "string = \"The quick brown fox jumps over the lazy dog\"\n",
    "string.split(\" \")\n",
    "```"
   ]
  },
  {
   "cell_type": "markdown",
   "id": "89faa9d0",
   "metadata": {},
   "source": [
    "### String\n",
    "Un string es una cadena de texto, i.e.: un contenedor de caracteres. Son ordenados y poséen index. Veamos algunos de sus metodos.\n",
    "\n",
    "#### Operators\n",
    "Los operadores matematicos muchas veces tienen diferentes significados en diferentes tipos de datos. Para los strings, los siguientes operadores:\n",
    "\n",
    "- +\n",
    "El operador `+` significa concatenar strings, poner uno seguido del otro, por lo tanto se usa entre 2 strings.\n",
    "\n",
    "- *\n",
    "La \"multiplicación\" no se usa entre dos strings, sino que entre un string y un entero y significa concatenar el string n veces."
   ]
  },
  {
   "cell_type": "code",
   "execution_count": 5,
   "id": "cf1ffe6e-e5c4-40f5-a957-f1bd56a4de16",
   "metadata": {},
   "outputs": [],
   "source": [
    "a = '-'\n",
    "b = '*'"
   ]
  },
  {
   "cell_type": "code",
   "execution_count": 6,
   "id": "8f116c3d-40b2-4796-8d6b-0656bf803ef5",
   "metadata": {},
   "outputs": [
    {
     "data": {
      "text/plain": [
       "'-*'"
      ]
     },
     "execution_count": 6,
     "metadata": {},
     "output_type": "execute_result"
    }
   ],
   "source": [
    "a+b"
   ]
  },
  {
   "cell_type": "code",
   "execution_count": 7,
   "id": "6de685a4-6ba8-4486-8032-0a4ec434d1c1",
   "metadata": {},
   "outputs": [
    {
     "ename": "TypeError",
     "evalue": "unsupported operand type(s) for -: 'str' and 'str'",
     "output_type": "error",
     "traceback": [
      "\u001b[0;31m---------------------------------------------------------------------------\u001b[0m",
      "\u001b[0;31mTypeError\u001b[0m                                 Traceback (most recent call last)",
      "\u001b[0;32m/var/folders/gd/w3m3w_td6cldhkn58qwx7mtm0000gn/T/ipykernel_37649/3931802818.py\u001b[0m in \u001b[0;36m<module>\u001b[0;34m\u001b[0m\n\u001b[0;32m----> 1\u001b[0;31m \u001b[0ma\u001b[0m\u001b[0;34m-\u001b[0m\u001b[0mb\u001b[0m\u001b[0;34m\u001b[0m\u001b[0;34m\u001b[0m\u001b[0m\n\u001b[0m",
      "\u001b[0;31mTypeError\u001b[0m: unsupported operand type(s) for -: 'str' and 'str'"
     ]
    }
   ],
   "source": [
    "a-b"
   ]
  },
  {
   "cell_type": "code",
   "execution_count": 8,
   "id": "9772b8ef-b891-4d1a-9b01-c68771caea7e",
   "metadata": {},
   "outputs": [
    {
     "ename": "TypeError",
     "evalue": "can't multiply sequence by non-int of type 'str'",
     "output_type": "error",
     "traceback": [
      "\u001b[0;31m---------------------------------------------------------------------------\u001b[0m",
      "\u001b[0;31mTypeError\u001b[0m                                 Traceback (most recent call last)",
      "\u001b[0;32m/var/folders/gd/w3m3w_td6cldhkn58qwx7mtm0000gn/T/ipykernel_37649/3507077656.py\u001b[0m in \u001b[0;36m<module>\u001b[0;34m\u001b[0m\n\u001b[0;32m----> 1\u001b[0;31m \u001b[0ma\u001b[0m\u001b[0;34m*\u001b[0m\u001b[0mb\u001b[0m\u001b[0;34m\u001b[0m\u001b[0;34m\u001b[0m\u001b[0m\n\u001b[0m",
      "\u001b[0;31mTypeError\u001b[0m: can't multiply sequence by non-int of type 'str'"
     ]
    }
   ],
   "source": [
    "a*b"
   ]
  },
  {
   "cell_type": "code",
   "execution_count": 9,
   "id": "474d2ae2-efea-481e-9468-405025288d32",
   "metadata": {},
   "outputs": [
    {
     "data": {
      "text/plain": [
       "'--------------------------------------------------'"
      ]
     },
     "execution_count": 9,
     "metadata": {},
     "output_type": "execute_result"
    }
   ],
   "source": [
    "a*50"
   ]
  },
  {
   "cell_type": "code",
   "execution_count": 10,
   "id": "e9254ae9-ea4e-4846-a10d-09f51794d038",
   "metadata": {},
   "outputs": [
    {
     "ename": "TypeError",
     "evalue": "unsupported operand type(s) for /: 'str' and 'int'",
     "output_type": "error",
     "traceback": [
      "\u001b[0;31m---------------------------------------------------------------------------\u001b[0m",
      "\u001b[0;31mTypeError\u001b[0m                                 Traceback (most recent call last)",
      "\u001b[0;32m/var/folders/gd/w3m3w_td6cldhkn58qwx7mtm0000gn/T/ipykernel_37649/3281147200.py\u001b[0m in \u001b[0;36m<module>\u001b[0;34m\u001b[0m\n\u001b[0;32m----> 1\u001b[0;31m \u001b[0ma\u001b[0m\u001b[0;34m/\u001b[0m\u001b[0;36m50\u001b[0m\u001b[0;34m\u001b[0m\u001b[0;34m\u001b[0m\u001b[0m\n\u001b[0m",
      "\u001b[0;31mTypeError\u001b[0m: unsupported operand type(s) for /: 'str' and 'int'"
     ]
    }
   ],
   "source": [
    "a/50"
   ]
  },
  {
   "cell_type": "code",
   "execution_count": 11,
   "id": "f6bd1e3d-5cf3-49ea-acb9-e5ce8e299a2e",
   "metadata": {},
   "outputs": [
    {
     "data": {
      "text/plain": [
       "'ababababab'"
      ]
     },
     "execution_count": 11,
     "metadata": {},
     "output_type": "execute_result"
    }
   ],
   "source": [
    "\"ab\"*5"
   ]
  },
  {
   "cell_type": "code",
   "execution_count": 12,
   "id": "fa5d0116-a185-4790-97ed-9668108c7a9a",
   "metadata": {},
   "outputs": [
    {
     "ename": "TypeError",
     "evalue": "can't multiply sequence by non-int of type 'float'",
     "output_type": "error",
     "traceback": [
      "\u001b[0;31m---------------------------------------------------------------------------\u001b[0m",
      "\u001b[0;31mTypeError\u001b[0m                                 Traceback (most recent call last)",
      "\u001b[0;32m/var/folders/gd/w3m3w_td6cldhkn58qwx7mtm0000gn/T/ipykernel_37649/80880892.py\u001b[0m in \u001b[0;36m<module>\u001b[0;34m\u001b[0m\n\u001b[0;32m----> 1\u001b[0;31m \u001b[0ma\u001b[0m\u001b[0;34m*\u001b[0m\u001b[0;36m1.5\u001b[0m\u001b[0;34m\u001b[0m\u001b[0;34m\u001b[0m\u001b[0m\n\u001b[0m",
      "\u001b[0;31mTypeError\u001b[0m: can't multiply sequence by non-int of type 'float'"
     ]
    }
   ],
   "source": [
    "a*1.5"
   ]
  },
  {
   "cell_type": "code",
   "execution_count": 13,
   "id": "d1acd7e9-da2b-4ea4-9d72-580310650028",
   "metadata": {},
   "outputs": [
    {
     "ename": "TypeError",
     "evalue": "can't multiply sequence by non-int of type 'complex'",
     "output_type": "error",
     "traceback": [
      "\u001b[0;31m---------------------------------------------------------------------------\u001b[0m",
      "\u001b[0;31mTypeError\u001b[0m                                 Traceback (most recent call last)",
      "\u001b[0;32m/var/folders/gd/w3m3w_td6cldhkn58qwx7mtm0000gn/T/ipykernel_37649/2029606966.py\u001b[0m in \u001b[0;36m<module>\u001b[0;34m\u001b[0m\n\u001b[0;32m----> 1\u001b[0;31m \u001b[0ma\u001b[0m\u001b[0;34m*\u001b[0m\u001b[0;34m(\u001b[0m\u001b[0;36m5\u001b[0m\u001b[0;34m+\u001b[0m\u001b[0;36m3j\u001b[0m\u001b[0;34m)\u001b[0m\u001b[0;34m\u001b[0m\u001b[0;34m\u001b[0m\u001b[0m\n\u001b[0m",
      "\u001b[0;31mTypeError\u001b[0m: can't multiply sequence by non-int of type 'complex'"
     ]
    }
   ],
   "source": [
    "a*(5+3j)"
   ]
  },
  {
   "cell_type": "markdown",
   "id": "b0881135",
   "metadata": {},
   "source": [
    "#### Case methods\n",
    "Hay algunos metodos particulares de los strings que se usan para verificar y convertir los caracteres en el string."
   ]
  },
  {
   "cell_type": "code",
   "execution_count": 27,
   "id": "f07d02b5-16d5-4b91-ae94-bd2c60dd0435",
   "metadata": {},
   "outputs": [],
   "source": [
    "a = \"Hola\"\n",
    "b = \"12235\""
   ]
  },
  {
   "cell_type": "code",
   "execution_count": 18,
   "id": "747c1735-ada5-48d2-b8cf-b511082853e2",
   "metadata": {},
   "outputs": [
    {
     "data": {
      "text/plain": [
       "True"
      ]
     },
     "execution_count": 18,
     "metadata": {},
     "output_type": "execute_result"
    }
   ],
   "source": [
    "a.isalpha()"
   ]
  },
  {
   "cell_type": "code",
   "execution_count": 19,
   "id": "82783c82-296b-4aec-9c6e-a48bd0e1f14b",
   "metadata": {},
   "outputs": [
    {
     "data": {
      "text/plain": [
       "False"
      ]
     },
     "execution_count": 19,
     "metadata": {},
     "output_type": "execute_result"
    }
   ],
   "source": [
    "b.isalpha()"
   ]
  },
  {
   "cell_type": "code",
   "execution_count": 24,
   "id": "d23874fa-ff91-47f0-8c5b-2474983f549f",
   "metadata": {},
   "outputs": [],
   "source": [
    "a = \"1\""
   ]
  },
  {
   "cell_type": "code",
   "execution_count": 25,
   "id": "e09314ca-ff3d-4c70-ad38-5ca59251add6",
   "metadata": {},
   "outputs": [
    {
     "data": {
      "text/plain": [
       "False"
      ]
     },
     "execution_count": 25,
     "metadata": {},
     "output_type": "execute_result"
    }
   ],
   "source": [
    "a.isalpha()"
   ]
  },
  {
   "cell_type": "code",
   "execution_count": 26,
   "id": "ff23ff84-8b72-4ab2-b7a5-4e4d13570062",
   "metadata": {},
   "outputs": [
    {
     "data": {
      "text/plain": [
       "True"
      ]
     },
     "execution_count": 26,
     "metadata": {},
     "output_type": "execute_result"
    }
   ],
   "source": [
    "a.isalnum()"
   ]
  },
  {
   "cell_type": "code",
   "execution_count": 28,
   "id": "e6b2fd2d-64fa-4592-b0fd-0f31a4395525",
   "metadata": {},
   "outputs": [
    {
     "data": {
      "text/plain": [
       "False"
      ]
     },
     "execution_count": 28,
     "metadata": {},
     "output_type": "execute_result"
    }
   ],
   "source": [
    "a.islower()"
   ]
  },
  {
   "cell_type": "code",
   "execution_count": 29,
   "id": "d7345893-2df0-4e8f-b294-1f4b6d86827e",
   "metadata": {},
   "outputs": [
    {
     "data": {
      "text/plain": [
       "False"
      ]
     },
     "execution_count": 29,
     "metadata": {},
     "output_type": "execute_result"
    }
   ],
   "source": [
    "a.isupper()"
   ]
  },
  {
   "cell_type": "markdown",
   "id": "35961ba0",
   "metadata": {},
   "source": [
    "#### Positioning strings\n",
    "Metodos usados para cambiar la posición de los caracteres en los strings."
   ]
  },
  {
   "cell_type": "code",
   "execution_count": 32,
   "id": "ef33684e-0c80-4c45-894f-082c478ae6d5",
   "metadata": {},
   "outputs": [],
   "source": [
    "x = \"Hola me llamo Antonio, pero mis amigos me llaman 'Anthony'\""
   ]
  },
  {
   "cell_type": "code",
   "execution_count": 34,
   "id": "89600dd0-d0d9-4874-bef6-d6b8937dddf7",
   "metadata": {},
   "outputs": [
    {
     "data": {
      "text/plain": [
       "58"
      ]
     },
     "execution_count": 34,
     "metadata": {},
     "output_type": "execute_result"
    }
   ],
   "source": [
    "len(x)"
   ]
  },
  {
   "cell_type": "code",
   "execution_count": 35,
   "id": "7f3f1583-9ea8-41d3-9bbd-32d92f29470e",
   "metadata": {},
   "outputs": [
    {
     "data": {
      "text/plain": [
       "\" Hola me llamo Antonio, pero mis amigos me llaman 'Anthony' \""
      ]
     },
     "execution_count": 35,
     "metadata": {},
     "output_type": "execute_result"
    }
   ],
   "source": [
    "x.center(60)"
   ]
  },
  {
   "cell_type": "code",
   "execution_count": 41,
   "id": "6d352387-b19a-4846-becd-53cf91eb0ef7",
   "metadata": {},
   "outputs": [],
   "source": [
    "x = \"       Hola        \""
   ]
  },
  {
   "cell_type": "code",
   "execution_count": 40,
   "id": "c2ba7285-73a5-497c-a21b-9cf2634af29f",
   "metadata": {},
   "outputs": [
    {
     "data": {
      "text/plain": [
       "'Hola'"
      ]
     },
     "execution_count": 40,
     "metadata": {},
     "output_type": "execute_result"
    }
   ],
   "source": [
    "x.lstrip()"
   ]
  },
  {
   "cell_type": "code",
   "execution_count": 42,
   "id": "f94ce907-28f9-41af-9120-3c6d58461ac9",
   "metadata": {},
   "outputs": [
    {
     "data": {
      "text/plain": [
       "'Hola'"
      ]
     },
     "execution_count": 42,
     "metadata": {},
     "output_type": "execute_result"
    }
   ],
   "source": [
    "x.lstrip().rstrip()"
   ]
  },
  {
   "cell_type": "code",
   "execution_count": 43,
   "id": "6dc71414-cafa-45c6-9547-596f91dac8ac",
   "metadata": {},
   "outputs": [
    {
     "data": {
      "text/plain": [
       "'Hola'"
      ]
     },
     "execution_count": 43,
     "metadata": {},
     "output_type": "execute_result"
    }
   ],
   "source": [
    "x.strip()"
   ]
  },
  {
   "cell_type": "code",
   "execution_count": 45,
   "id": "c172cfd4-892c-467f-a6bb-22ba76239276",
   "metadata": {},
   "outputs": [],
   "source": [
    "x = x.strip()"
   ]
  },
  {
   "cell_type": "code",
   "execution_count": 46,
   "id": "330c93cb-d529-4f39-bef5-1037476993f3",
   "metadata": {},
   "outputs": [
    {
     "data": {
      "text/plain": [
       "'Hola'"
      ]
     },
     "execution_count": 46,
     "metadata": {},
     "output_type": "execute_result"
    }
   ],
   "source": [
    "x"
   ]
  },
  {
   "cell_type": "code",
   "execution_count": 49,
   "id": "b9c22158-65b5-4290-81ff-f66e6884cbfa",
   "metadata": {},
   "outputs": [
    {
     "ename": "TypeError",
     "evalue": "'str' object does not support item assignment",
     "output_type": "error",
     "traceback": [
      "\u001b[0;31m---------------------------------------------------------------------------\u001b[0m",
      "\u001b[0;31mTypeError\u001b[0m                                 Traceback (most recent call last)",
      "\u001b[0;32m/var/folders/gd/w3m3w_td6cldhkn58qwx7mtm0000gn/T/ipykernel_37649/1987059512.py\u001b[0m in \u001b[0;36m<module>\u001b[0;34m\u001b[0m\n\u001b[0;32m----> 1\u001b[0;31m \u001b[0mx\u001b[0m\u001b[0;34m[\u001b[0m\u001b[0;36m1\u001b[0m\u001b[0;34m]\u001b[0m \u001b[0;34m=\u001b[0m \u001b[0;34m\"6\"\u001b[0m\u001b[0;34m\u001b[0m\u001b[0;34m\u001b[0m\u001b[0m\n\u001b[0m",
      "\u001b[0;31mTypeError\u001b[0m: 'str' object does not support item assignment"
     ]
    }
   ],
   "source": [
    "x[1] = \"6\""
   ]
  },
  {
   "cell_type": "markdown",
   "id": "0a9c4bfe",
   "metadata": {},
   "source": [
    "#### Other methods"
   ]
  },
  {
   "cell_type": "code",
   "execution_count": 56,
   "id": "159b30b5-9a66-499b-867b-b21fd476348d",
   "metadata": {},
   "outputs": [],
   "source": [
    "x = \"Holllllla\""
   ]
  },
  {
   "cell_type": "code",
   "execution_count": 61,
   "id": "fafc8a26-bdb1-4126-920e-150dd88401b6",
   "metadata": {},
   "outputs": [
    {
     "data": {
      "text/plain": [
       "'Ho555555a'"
      ]
     },
     "execution_count": 61,
     "metadata": {},
     "output_type": "execute_result"
    }
   ],
   "source": [
    "x.replace(\"l\", \"5\")"
   ]
  },
  {
   "cell_type": "code",
   "execution_count": 62,
   "id": "a3d2c03d-9184-4499-be29-69b4446c6ce3",
   "metadata": {},
   "outputs": [],
   "source": [
    "h = x.replace(\"l\", \"5\")"
   ]
  },
  {
   "cell_type": "code",
   "execution_count": 63,
   "id": "e1911208-8334-4cf8-9ce1-a6120ceaed40",
   "metadata": {},
   "outputs": [
    {
     "data": {
      "text/plain": [
       "'Holllllla'"
      ]
     },
     "execution_count": 63,
     "metadata": {},
     "output_type": "execute_result"
    }
   ],
   "source": [
    "x"
   ]
  },
  {
   "cell_type": "code",
   "execution_count": 64,
   "id": "53e4d43e-8b80-45d5-815c-2e175f2f45b3",
   "metadata": {},
   "outputs": [
    {
     "data": {
      "text/plain": [
       "'Ho555555a'"
      ]
     },
     "execution_count": 64,
     "metadata": {},
     "output_type": "execute_result"
    }
   ],
   "source": [
    "h"
   ]
  },
  {
   "cell_type": "code",
   "execution_count": 67,
   "id": "6496795c-0b8d-4ed3-8065-7c4fe93cbd52",
   "metadata": {},
   "outputs": [
    {
     "data": {
      "text/plain": [
       "['__add__',\n",
       " '__class__',\n",
       " '__contains__',\n",
       " '__delattr__',\n",
       " '__dir__',\n",
       " '__doc__',\n",
       " '__eq__',\n",
       " '__format__',\n",
       " '__ge__',\n",
       " '__getattribute__',\n",
       " '__getitem__',\n",
       " '__getnewargs__',\n",
       " '__gt__',\n",
       " '__hash__',\n",
       " '__init__',\n",
       " '__init_subclass__',\n",
       " '__iter__',\n",
       " '__le__',\n",
       " '__len__',\n",
       " '__lt__',\n",
       " '__mod__',\n",
       " '__mul__',\n",
       " '__ne__',\n",
       " '__new__',\n",
       " '__reduce__',\n",
       " '__reduce_ex__',\n",
       " '__repr__',\n",
       " '__rmod__',\n",
       " '__rmul__',\n",
       " '__setattr__',\n",
       " '__sizeof__',\n",
       " '__str__',\n",
       " '__subclasshook__',\n",
       " 'capitalize',\n",
       " 'casefold',\n",
       " 'center',\n",
       " 'count',\n",
       " 'encode',\n",
       " 'endswith',\n",
       " 'expandtabs',\n",
       " 'find',\n",
       " 'format',\n",
       " 'format_map',\n",
       " 'index',\n",
       " 'isalnum',\n",
       " 'isalpha',\n",
       " 'isascii',\n",
       " 'isdecimal',\n",
       " 'isdigit',\n",
       " 'isidentifier',\n",
       " 'islower',\n",
       " 'isnumeric',\n",
       " 'isprintable',\n",
       " 'isspace',\n",
       " 'istitle',\n",
       " 'isupper',\n",
       " 'join',\n",
       " 'ljust',\n",
       " 'lower',\n",
       " 'lstrip',\n",
       " 'maketrans',\n",
       " 'partition',\n",
       " 'removeprefix',\n",
       " 'removesuffix',\n",
       " 'replace',\n",
       " 'rfind',\n",
       " 'rindex',\n",
       " 'rjust',\n",
       " 'rpartition',\n",
       " 'rsplit',\n",
       " 'rstrip',\n",
       " 'split',\n",
       " 'splitlines',\n",
       " 'startswith',\n",
       " 'strip',\n",
       " 'swapcase',\n",
       " 'title',\n",
       " 'translate',\n",
       " 'upper',\n",
       " 'zfill']"
      ]
     },
     "execution_count": 67,
     "metadata": {},
     "output_type": "execute_result"
    }
   ],
   "source": [
    "dir(\"hola\")"
   ]
  },
  {
   "cell_type": "code",
   "execution_count": 70,
   "id": "1670093a-6a0c-480e-b033-827c04ff9c24",
   "metadata": {},
   "outputs": [
    {
     "data": {
      "text/plain": [
       "'Holllllla'"
      ]
     },
     "execution_count": 70,
     "metadata": {},
     "output_type": "execute_result"
    }
   ],
   "source": [
    "x"
   ]
  },
  {
   "cell_type": "markdown",
   "id": "9d7e6b42-9b5a-4d4c-b2bb-5b23a07b1547",
   "metadata": {},
   "source": [
    "Con la `?` podemos obtener información sobre los metodos, los parametros que recibe y el resultado que devuelve. Es posible que no todas las funciones proporcionen esta información."
   ]
  },
  {
   "cell_type": "code",
   "execution_count": 71,
   "id": "bc09be32-f2fa-4574-8107-7af7d97e2f48",
   "metadata": {},
   "outputs": [
    {
     "data": {
      "text/plain": [
       "\u001b[0;31mDocstring:\u001b[0m\n",
       "S.find(sub[, start[, end]]) -> int\n",
       "\n",
       "Return the lowest index in S where substring sub is found,\n",
       "such that sub is contained within S[start:end].  Optional\n",
       "arguments start and end are interpreted as in slice notation.\n",
       "\n",
       "Return -1 on failure.\n",
       "\u001b[0;31mType:\u001b[0m      builtin_function_or_method\n"
      ]
     },
     "metadata": {},
     "output_type": "display_data"
    }
   ],
   "source": [
    "x.find?"
   ]
  },
  {
   "cell_type": "code",
   "execution_count": 72,
   "id": "0b1de48e-3e56-4fd3-b018-02fc85705290",
   "metadata": {},
   "outputs": [
    {
     "data": {
      "text/plain": [
       "2"
      ]
     },
     "execution_count": 72,
     "metadata": {},
     "output_type": "execute_result"
    }
   ],
   "source": [
    "\"hola\".find(\"la\")"
   ]
  },
  {
   "cell_type": "code",
   "execution_count": 77,
   "id": "e2c748f7-267a-4f6d-8496-a93947a3346a",
   "metadata": {},
   "outputs": [
    {
     "name": "stdout",
     "output_type": "stream",
     "text": [
      "H\n",
      "o\n",
      "l\n",
      "a\n"
     ]
    }
   ],
   "source": [
    "for char in \"Hola\":\n",
    "    print(char)"
   ]
  },
  {
   "cell_type": "code",
   "execution_count": 78,
   "id": "4a7b1f3b-33a9-4494-8e01-eb0e0f529421",
   "metadata": {},
   "outputs": [],
   "source": [
    "x = \"Hola me llamo Antonio, pero mis amigos me llaman 'Anthony'\""
   ]
  },
  {
   "cell_type": "code",
   "execution_count": 90,
   "id": "278b5e55-09d9-451a-9766-c02f7b43bada",
   "metadata": {},
   "outputs": [
    {
     "data": {
      "text/plain": [
       "\"'ynohtnA' namall em sogima sim orep ,oinotnA omall em aloH\""
      ]
     },
     "execution_count": 90,
     "metadata": {},
     "output_type": "execute_result"
    }
   ],
   "source": [
    "x[::-1]"
   ]
  },
  {
   "cell_type": "code",
   "execution_count": 98,
   "id": "97b52faa-2c5a-4053-8fa1-33940262c7cf",
   "metadata": {},
   "outputs": [],
   "source": [
    "x = \"12345\""
   ]
  },
  {
   "cell_type": "code",
   "execution_count": 99,
   "id": "057c8652-86ea-469b-8125-1ddd6436119a",
   "metadata": {},
   "outputs": [
    {
     "data": {
      "text/plain": [
       "int"
      ]
     },
     "execution_count": 99,
     "metadata": {},
     "output_type": "execute_result"
    }
   ],
   "source": [
    "num = int(x)\n",
    "type(num)"
   ]
  },
  {
   "cell_type": "markdown",
   "id": "2d6026e7",
   "metadata": {},
   "source": [
    "Hay muchos otros métodos de los strings que podéis investigar y utilizar. Citamos algunos más, pero no son todos. Una lista completa puede ser encontrada en las referencias al final.\n",
    "\n",
    "- count\n",
    "- startswith\n",
    "- endswith\n",
    "- index\n",
    "- join\n",
    "- split\n",
    "- zfill"
   ]
  },
  {
   "cell_type": "markdown",
   "id": "19079d49",
   "metadata": {},
   "source": [
    "### List\n",
    "En las listas, los operadores `+` y `*` funcionan de manera muy parecida con los strings.\n",
    "\n",
    "#### Operators"
   ]
  },
  {
   "cell_type": "code",
   "execution_count": 101,
   "id": "2c6440e0-e02f-429f-9f57-7dfe9a9b2848",
   "metadata": {},
   "outputs": [],
   "source": [
    "a = [1,2,3,4,5]\n",
    "b = [\"H\",\"o\", \"l\", \"a\"]\n",
    "c = [print, type]\n",
    "d = [{2:1}]\n",
    "e = [print, 1, \"h\", {1:2}]"
   ]
  },
  {
   "cell_type": "code",
   "execution_count": 103,
   "id": "da90dc06-9615-47a9-91ff-02c6b9c083f2",
   "metadata": {},
   "outputs": [
    {
     "data": {
      "text/plain": [
       "[1, 2, 3, 4, 5, 'H', 'o', 'l', 'a']"
      ]
     },
     "execution_count": 103,
     "metadata": {},
     "output_type": "execute_result"
    }
   ],
   "source": [
    "a+b"
   ]
  },
  {
   "cell_type": "code",
   "execution_count": 104,
   "id": "7e8b7b17-77ea-4b40-b2ef-b243a6ae05ec",
   "metadata": {},
   "outputs": [
    {
     "data": {
      "text/plain": [
       "[1, 2, 3, 4, 5, 1, 2, 3, 4, 5, 1, 2, 3, 4, 5, 1, 2, 3, 4, 5, 1, 2, 3, 4, 5]"
      ]
     },
     "execution_count": 104,
     "metadata": {},
     "output_type": "execute_result"
    }
   ],
   "source": [
    "a*5"
   ]
  },
  {
   "cell_type": "markdown",
   "id": "a9359e9b",
   "metadata": {},
   "source": [
    "#### Including methods"
   ]
  },
  {
   "cell_type": "code",
   "execution_count": 106,
   "id": "01834daa-b9c5-4744-b8af-2313ee37013f",
   "metadata": {},
   "outputs": [],
   "source": [
    "a[0] = 5"
   ]
  },
  {
   "cell_type": "code",
   "execution_count": 107,
   "id": "6f845edf-95a3-4216-8227-18d711075b07",
   "metadata": {},
   "outputs": [
    {
     "data": {
      "text/plain": [
       "[5, 2, 3, 4, 5]"
      ]
     },
     "execution_count": 107,
     "metadata": {},
     "output_type": "execute_result"
    }
   ],
   "source": [
    "a"
   ]
  },
  {
   "cell_type": "code",
   "execution_count": 109,
   "id": "010e3884-3e5b-4809-ac9c-fc55cc708975",
   "metadata": {},
   "outputs": [
    {
     "ename": "TypeError",
     "evalue": "'str' object does not support item assignment",
     "output_type": "error",
     "traceback": [
      "\u001b[0;31m---------------------------------------------------------------------------\u001b[0m",
      "\u001b[0;31mTypeError\u001b[0m                                 Traceback (most recent call last)",
      "\u001b[0;32m/var/folders/gd/w3m3w_td6cldhkn58qwx7mtm0000gn/T/ipykernel_37649/47106209.py\u001b[0m in \u001b[0;36m<module>\u001b[0;34m\u001b[0m\n\u001b[1;32m      1\u001b[0m \u001b[0mx\u001b[0m \u001b[0;34m=\u001b[0m \u001b[0;34m\"hola\"\u001b[0m\u001b[0;34m\u001b[0m\u001b[0;34m\u001b[0m\u001b[0m\n\u001b[0;32m----> 2\u001b[0;31m \u001b[0mx\u001b[0m\u001b[0;34m[\u001b[0m\u001b[0;36m0\u001b[0m\u001b[0;34m]\u001b[0m\u001b[0;34m=\u001b[0m\u001b[0;34m\"j\"\u001b[0m\u001b[0;34m\u001b[0m\u001b[0;34m\u001b[0m\u001b[0m\n\u001b[0m",
      "\u001b[0;31mTypeError\u001b[0m: 'str' object does not support item assignment"
     ]
    }
   ],
   "source": [
    "x = \"hola\"\n",
    "x[0]=\"j\""
   ]
  },
  {
   "cell_type": "code",
   "execution_count": 125,
   "id": "403138b4-4450-4295-8a7d-143d86b53bdc",
   "metadata": {},
   "outputs": [],
   "source": [
    "a.append(\"g\")"
   ]
  },
  {
   "cell_type": "code",
   "execution_count": 111,
   "id": "359acca6-2336-467f-9405-d3075aecb487",
   "metadata": {},
   "outputs": [
    {
     "data": {
      "text/plain": [
       "[5, 2, 3, 4, 5, 'g']"
      ]
     },
     "execution_count": 111,
     "metadata": {},
     "output_type": "execute_result"
    }
   ],
   "source": [
    "a"
   ]
  },
  {
   "cell_type": "code",
   "execution_count": 113,
   "id": "72f06b5c-7a5c-402e-9773-d3e51ac93149",
   "metadata": {},
   "outputs": [],
   "source": [
    "a.insert(3, \"Hola\")"
   ]
  },
  {
   "cell_type": "code",
   "execution_count": 114,
   "id": "2cbcb12c-9c47-45cf-b04d-decbadbce6b0",
   "metadata": {},
   "outputs": [
    {
     "data": {
      "text/plain": [
       "[5, 2, 3, 'Hola', 4, 5, 'g']"
      ]
     },
     "execution_count": 114,
     "metadata": {},
     "output_type": "execute_result"
    }
   ],
   "source": [
    "a"
   ]
  },
  {
   "cell_type": "code",
   "execution_count": 115,
   "id": "01577ceb-0cba-4bc3-8047-857034355434",
   "metadata": {},
   "outputs": [
    {
     "data": {
      "text/plain": [
       "['__add__',\n",
       " '__class__',\n",
       " '__class_getitem__',\n",
       " '__contains__',\n",
       " '__delattr__',\n",
       " '__delitem__',\n",
       " '__dir__',\n",
       " '__doc__',\n",
       " '__eq__',\n",
       " '__format__',\n",
       " '__ge__',\n",
       " '__getattribute__',\n",
       " '__getitem__',\n",
       " '__gt__',\n",
       " '__hash__',\n",
       " '__iadd__',\n",
       " '__imul__',\n",
       " '__init__',\n",
       " '__init_subclass__',\n",
       " '__iter__',\n",
       " '__le__',\n",
       " '__len__',\n",
       " '__lt__',\n",
       " '__mul__',\n",
       " '__ne__',\n",
       " '__new__',\n",
       " '__reduce__',\n",
       " '__reduce_ex__',\n",
       " '__repr__',\n",
       " '__reversed__',\n",
       " '__rmul__',\n",
       " '__setattr__',\n",
       " '__setitem__',\n",
       " '__sizeof__',\n",
       " '__str__',\n",
       " '__subclasshook__',\n",
       " 'append',\n",
       " 'clear',\n",
       " 'copy',\n",
       " 'count',\n",
       " 'extend',\n",
       " 'index',\n",
       " 'insert',\n",
       " 'pop',\n",
       " 'remove',\n",
       " 'reverse',\n",
       " 'sort']"
      ]
     },
     "execution_count": 115,
     "metadata": {},
     "output_type": "execute_result"
    }
   ],
   "source": [
    "dir(a)"
   ]
  },
  {
   "cell_type": "markdown",
   "id": "b5914e90",
   "metadata": {},
   "source": [
    "#### Removing methods"
   ]
  },
  {
   "cell_type": "code",
   "execution_count": 118,
   "id": "c8b8f70d-5339-4463-b354-ce4d53cbfae0",
   "metadata": {},
   "outputs": [
    {
     "data": {
      "text/plain": [
       "[5, 2, 3, 'Hola', 4, 5, 'g']"
      ]
     },
     "execution_count": 118,
     "metadata": {},
     "output_type": "execute_result"
    }
   ],
   "source": [
    "a"
   ]
  },
  {
   "cell_type": "code",
   "execution_count": 121,
   "id": "359b959e-c72b-4c0c-a9df-cb5e120f83f3",
   "metadata": {},
   "outputs": [
    {
     "data": {
      "text/plain": [
       "'g'"
      ]
     },
     "execution_count": 121,
     "metadata": {},
     "output_type": "execute_result"
    }
   ],
   "source": [
    "a[-1]"
   ]
  },
  {
   "cell_type": "code",
   "execution_count": 126,
   "id": "5888809c-4bcc-44e0-9610-59f54d2f7fbb",
   "metadata": {},
   "outputs": [],
   "source": [
    "expulsado = a.pop()"
   ]
  },
  {
   "cell_type": "code",
   "execution_count": 127,
   "id": "6d98d0dd-2646-497d-baab-b4ee002c1856",
   "metadata": {},
   "outputs": [
    {
     "data": {
      "text/plain": [
       "[5, 2, 3, 'Hola', 4, 5]"
      ]
     },
     "execution_count": 127,
     "metadata": {},
     "output_type": "execute_result"
    }
   ],
   "source": [
    "a"
   ]
  },
  {
   "cell_type": "code",
   "execution_count": 128,
   "id": "03c3a1c8-84b0-4f99-8965-0ee3b5ce20a6",
   "metadata": {},
   "outputs": [
    {
     "data": {
      "text/plain": [
       "'g'"
      ]
     },
     "execution_count": 128,
     "metadata": {},
     "output_type": "execute_result"
    }
   ],
   "source": [
    "expulsado"
   ]
  },
  {
   "cell_type": "markdown",
   "id": "65c5e338-b510-4115-ae0a-344ba8dcda4d",
   "metadata": {},
   "source": [
    "No es posible eliminar un valor de una lista cuando este no se encuentra dentro de ella."
   ]
  },
  {
   "cell_type": "code",
   "execution_count": 133,
   "id": "1db29e74-c8f9-471e-85d3-78f49494b579",
   "metadata": {},
   "outputs": [
    {
     "ename": "ValueError",
     "evalue": "list.remove(x): x not in list",
     "output_type": "error",
     "traceback": [
      "\u001b[0;31m---------------------------------------------------------------------------\u001b[0m",
      "\u001b[0;31mValueError\u001b[0m                                Traceback (most recent call last)",
      "\u001b[0;32m/var/folders/gd/w3m3w_td6cldhkn58qwx7mtm0000gn/T/ipykernel_37649/2613193872.py\u001b[0m in \u001b[0;36m<module>\u001b[0;34m\u001b[0m\n\u001b[0;32m----> 1\u001b[0;31m \u001b[0ma\u001b[0m\u001b[0;34m.\u001b[0m\u001b[0mremove\u001b[0m\u001b[0;34m(\u001b[0m\u001b[0;36m5\u001b[0m\u001b[0;34m)\u001b[0m\u001b[0;34m\u001b[0m\u001b[0;34m\u001b[0m\u001b[0m\n\u001b[0m",
      "\u001b[0;31mValueError\u001b[0m: list.remove(x): x not in list"
     ]
    }
   ],
   "source": [
    "a.remove(5)"
   ]
  },
  {
   "cell_type": "code",
   "execution_count": 132,
   "id": "b26210c1-f6d0-48f1-9649-2c035150d68f",
   "metadata": {},
   "outputs": [
    {
     "data": {
      "text/plain": [
       "[2, 3, 'Hola', 4]"
      ]
     },
     "execution_count": 132,
     "metadata": {},
     "output_type": "execute_result"
    }
   ],
   "source": [
    "a"
   ]
  },
  {
   "cell_type": "code",
   "execution_count": 134,
   "id": "f3ac750f-f8f0-4846-8b14-bfd239370e33",
   "metadata": {},
   "outputs": [
    {
     "data": {
      "text/plain": [
       "1"
      ]
     },
     "execution_count": 134,
     "metadata": {},
     "output_type": "execute_result"
    }
   ],
   "source": [
    "a.count(2)"
   ]
  },
  {
   "cell_type": "code",
   "execution_count": 142,
   "id": "4cf5e6d1-d976-450d-bc86-170952eb07bd",
   "metadata": {},
   "outputs": [],
   "source": [
    "a = [1,6,12,4,5]"
   ]
  },
  {
   "cell_type": "code",
   "execution_count": 143,
   "id": "cc2dc99b-68d3-4488-a4c2-67c7df374f8e",
   "metadata": {},
   "outputs": [
    {
     "data": {
      "text/plain": [
       "[1, 4, 5, 6, 12]"
      ]
     },
     "execution_count": 143,
     "metadata": {},
     "output_type": "execute_result"
    }
   ],
   "source": [
    "sorted(a)"
   ]
  },
  {
   "cell_type": "code",
   "execution_count": 144,
   "id": "de83e7c6-825e-4416-a65e-8e519cae0dfb",
   "metadata": {},
   "outputs": [
    {
     "data": {
      "text/plain": [
       "[1, 6, 12, 4, 5]"
      ]
     },
     "execution_count": 144,
     "metadata": {},
     "output_type": "execute_result"
    }
   ],
   "source": [
    "a"
   ]
  },
  {
   "cell_type": "code",
   "execution_count": 140,
   "id": "d87dbd63-a334-4e2d-9a3f-88c954b6be08",
   "metadata": {},
   "outputs": [],
   "source": [
    "a.sort()"
   ]
  },
  {
   "cell_type": "code",
   "execution_count": 141,
   "id": "623eec2d-055f-4720-b394-edc0681d22ec",
   "metadata": {},
   "outputs": [
    {
     "data": {
      "text/plain": [
       "[1, 4, 5, 6, 12]"
      ]
     },
     "execution_count": 141,
     "metadata": {},
     "output_type": "execute_result"
    }
   ],
   "source": [
    "a"
   ]
  },
  {
   "cell_type": "code",
   "execution_count": 146,
   "id": "abb69158-94b9-458f-b7a3-c318e4195e2a",
   "metadata": {},
   "outputs": [],
   "source": [
    "a.sort(reverse=True)"
   ]
  },
  {
   "cell_type": "code",
   "execution_count": 147,
   "id": "ddbcd30e-2b97-45f8-a063-c45e53d3dfcf",
   "metadata": {},
   "outputs": [
    {
     "data": {
      "text/plain": [
       "[12, 6, 5, 4, 1]"
      ]
     },
     "execution_count": 147,
     "metadata": {},
     "output_type": "execute_result"
    }
   ],
   "source": [
    "a"
   ]
  },
  {
   "cell_type": "code",
   "execution_count": 148,
   "id": "918bfb9f-19b6-4ef1-be90-a31dce20d580",
   "metadata": {},
   "outputs": [
    {
     "data": {
      "text/plain": [
       "\u001b[0;31mSignature:\u001b[0m \u001b[0ma\u001b[0m\u001b[0;34m.\u001b[0m\u001b[0msort\u001b[0m\u001b[0;34m(\u001b[0m\u001b[0;34m*\u001b[0m\u001b[0;34m,\u001b[0m \u001b[0mkey\u001b[0m\u001b[0;34m=\u001b[0m\u001b[0;32mNone\u001b[0m\u001b[0;34m,\u001b[0m \u001b[0mreverse\u001b[0m\u001b[0;34m=\u001b[0m\u001b[0;32mFalse\u001b[0m\u001b[0;34m)\u001b[0m\u001b[0;34m\u001b[0m\u001b[0;34m\u001b[0m\u001b[0m\n",
       "\u001b[0;31mDocstring:\u001b[0m\n",
       "Sort the list in ascending order and return None.\n",
       "\n",
       "The sort is in-place (i.e. the list itself is modified) and stable (i.e. the\n",
       "order of two equal elements is maintained).\n",
       "\n",
       "If a key function is given, apply it once to each list item and sort them,\n",
       "ascending or descending, according to their function values.\n",
       "\n",
       "The reverse flag can be set to sort in descending order.\n",
       "\u001b[0;31mType:\u001b[0m      builtin_function_or_method\n"
      ]
     },
     "metadata": {},
     "output_type": "display_data"
    }
   ],
   "source": [
    "a.sort?"
   ]
  },
  {
   "cell_type": "code",
   "execution_count": 149,
   "id": "5dfae0de-a50e-42ca-9123-00bb46425b93",
   "metadata": {},
   "outputs": [],
   "source": [
    "x = [[1,5,2],[5,1,45],[6,2,7],[\"hola\",10,\"jose\"]]"
   ]
  },
  {
   "cell_type": "code",
   "execution_count": 150,
   "id": "b091fa8c-f7cf-4ce3-8046-8e509871e954",
   "metadata": {},
   "outputs": [
    {
     "data": {
      "text/plain": [
       "[[1, 5, 2], [5, 1, 45], [6, 2, 7], ['hola', 10, 'jose']]"
      ]
     },
     "execution_count": 150,
     "metadata": {},
     "output_type": "execute_result"
    }
   ],
   "source": [
    "x"
   ]
  },
  {
   "cell_type": "code",
   "execution_count": 151,
   "id": "ab79103a-198a-4c7f-9092-dabc1f676977",
   "metadata": {},
   "outputs": [],
   "source": [
    "x.sort(key= lambda x: x[1])"
   ]
  },
  {
   "cell_type": "code",
   "execution_count": 152,
   "id": "e2a66ff6-c313-413a-be6e-dff973e57544",
   "metadata": {},
   "outputs": [
    {
     "data": {
      "text/plain": [
       "[[5, 1, 45], [6, 2, 7], [1, 5, 2], ['hola', 10, 'jose']]"
      ]
     },
     "execution_count": 152,
     "metadata": {},
     "output_type": "execute_result"
    }
   ],
   "source": [
    "x"
   ]
  },
  {
   "cell_type": "code",
   "execution_count": 153,
   "id": "e1949e80-254d-4608-928c-7678a7810733",
   "metadata": {},
   "outputs": [],
   "source": [
    "x = [\"a\",\"c\",\"d\",\"h\", \"A\", \"lam\"]"
   ]
  },
  {
   "cell_type": "code",
   "execution_count": 154,
   "id": "ea3af43a-4424-40a3-bff8-fc9534c526d3",
   "metadata": {},
   "outputs": [],
   "source": [
    "x.sort()"
   ]
  },
  {
   "cell_type": "code",
   "execution_count": 155,
   "id": "97829d80-247a-4f8a-9cf9-512f08014772",
   "metadata": {},
   "outputs": [
    {
     "data": {
      "text/plain": [
       "['A', 'a', 'c', 'd', 'h', 'lam']"
      ]
     },
     "execution_count": 155,
     "metadata": {},
     "output_type": "execute_result"
    }
   ],
   "source": [
    "x"
   ]
  },
  {
   "cell_type": "markdown",
   "id": "98f806d8",
   "metadata": {},
   "source": [
    "#### Other\n",
    "\n",
    "Otros métodos de las listas incluyen:\n",
    "\n",
    "- count\n",
    "- extend\n",
    "- index\n",
    "- reverse\n",
    "- sort"
   ]
  },
  {
   "cell_type": "markdown",
   "id": "47ef3e12",
   "metadata": {},
   "source": [
    "### Tuple\n",
    "Como elementos inmutables, las tuplas poséen apenas 2 métodos:"
   ]
  },
  {
   "cell_type": "code",
   "execution_count": 160,
   "id": "ba19a06f-3036-4c2e-8764-1a0857f6a96e",
   "metadata": {},
   "outputs": [],
   "source": [
    "tupla = (1,)"
   ]
  },
  {
   "cell_type": "code",
   "execution_count": 161,
   "id": "20431dc7-a99a-4ab1-9ef2-c4c7735e7c6e",
   "metadata": {},
   "outputs": [
    {
     "data": {
      "text/plain": [
       "tuple"
      ]
     },
     "execution_count": 161,
     "metadata": {},
     "output_type": "execute_result"
    }
   ],
   "source": [
    "type(tupla)"
   ]
  },
  {
   "cell_type": "code",
   "execution_count": 162,
   "id": "a8e5814c-b5e3-415a-87c2-408286e2b404",
   "metadata": {},
   "outputs": [
    {
     "data": {
      "text/plain": [
       "1"
      ]
     },
     "execution_count": 162,
     "metadata": {},
     "output_type": "execute_result"
    }
   ],
   "source": [
    "tupla[0]"
   ]
  },
  {
   "cell_type": "code",
   "execution_count": 163,
   "id": "b8da99d1-7aff-4795-9977-b085c24713ff",
   "metadata": {},
   "outputs": [
    {
     "ename": "TypeError",
     "evalue": "'tuple' object does not support item assignment",
     "output_type": "error",
     "traceback": [
      "\u001b[0;31m---------------------------------------------------------------------------\u001b[0m",
      "\u001b[0;31mTypeError\u001b[0m                                 Traceback (most recent call last)",
      "\u001b[0;32m/var/folders/gd/w3m3w_td6cldhkn58qwx7mtm0000gn/T/ipykernel_37649/4042197949.py\u001b[0m in \u001b[0;36m<module>\u001b[0;34m\u001b[0m\n\u001b[0;32m----> 1\u001b[0;31m \u001b[0mtupla\u001b[0m\u001b[0;34m[\u001b[0m\u001b[0;36m0\u001b[0m\u001b[0;34m]\u001b[0m\u001b[0;34m=\u001b[0m\u001b[0;36m5\u001b[0m\u001b[0;34m\u001b[0m\u001b[0;34m\u001b[0m\u001b[0m\n\u001b[0m",
      "\u001b[0;31mTypeError\u001b[0m: 'tuple' object does not support item assignment"
     ]
    }
   ],
   "source": [
    "tupla[0]=5"
   ]
  },
  {
   "cell_type": "markdown",
   "id": "03566751-67fa-49be-9a3b-2338af07d994",
   "metadata": {},
   "source": [
    "Aunque las tuplas sean inmutables, es posible cambiar el contenido de un diccionario/lista que se encuentre dentro de está. No es posible cambiar ese diccionario/lista por otro tipo de datos."
   ]
  },
  {
   "cell_type": "code",
   "execution_count": 171,
   "id": "c70aa774-1cce-4759-a7fc-08e879ce4ce3",
   "metadata": {},
   "outputs": [],
   "source": [
    "t = ({1:1},[1,2,3], 5)"
   ]
  },
  {
   "cell_type": "code",
   "execution_count": 167,
   "id": "8c74ebd0-aac5-451c-a5fb-c3411e9f5a6f",
   "metadata": {},
   "outputs": [
    {
     "data": {
      "text/plain": [
       "({1: 1}, [1, 2, 3])"
      ]
     },
     "execution_count": 167,
     "metadata": {},
     "output_type": "execute_result"
    }
   ],
   "source": [
    "t"
   ]
  },
  {
   "cell_type": "code",
   "execution_count": 172,
   "id": "2adc9d1d-e6ea-442f-a0bb-ae664cf66b1c",
   "metadata": {},
   "outputs": [],
   "source": [
    "t[0][2]=10"
   ]
  },
  {
   "cell_type": "code",
   "execution_count": 173,
   "id": "96ca3ee0-c402-48dc-b79c-8c34efb9b888",
   "metadata": {},
   "outputs": [
    {
     "data": {
      "text/plain": [
       "({1: 1, 2: 10}, [1, 2, 3], 5)"
      ]
     },
     "execution_count": 173,
     "metadata": {},
     "output_type": "execute_result"
    }
   ],
   "source": [
    "t"
   ]
  },
  {
   "cell_type": "code",
   "execution_count": 178,
   "id": "7c93cab1-1877-403f-8797-14408ae51ca0",
   "metadata": {},
   "outputs": [
    {
     "ename": "TypeError",
     "evalue": "'tuple' object does not support item assignment",
     "output_type": "error",
     "traceback": [
      "\u001b[0;31m---------------------------------------------------------------------------\u001b[0m",
      "\u001b[0;31mTypeError\u001b[0m                                 Traceback (most recent call last)",
      "\u001b[0;32m/var/folders/gd/w3m3w_td6cldhkn58qwx7mtm0000gn/T/ipykernel_37649/3105659169.py\u001b[0m in \u001b[0;36m<module>\u001b[0;34m\u001b[0m\n\u001b[0;32m----> 1\u001b[0;31m \u001b[0mt\u001b[0m\u001b[0;34m[\u001b[0m\u001b[0;36m0\u001b[0m\u001b[0;34m]\u001b[0m \u001b[0;34m=\u001b[0m \u001b[0;36m6\u001b[0m\u001b[0;34m\u001b[0m\u001b[0;34m\u001b[0m\u001b[0m\n\u001b[0m",
      "\u001b[0;31mTypeError\u001b[0m: 'tuple' object does not support item assignment"
     ]
    }
   ],
   "source": [
    "t[0] = 6"
   ]
  },
  {
   "cell_type": "code",
   "execution_count": 179,
   "id": "911e8600-d85f-49b6-8eec-c81dde083846",
   "metadata": {},
   "outputs": [
    {
     "data": {
      "text/plain": [
       "['__add__',\n",
       " '__class__',\n",
       " '__class_getitem__',\n",
       " '__contains__',\n",
       " '__delattr__',\n",
       " '__dir__',\n",
       " '__doc__',\n",
       " '__eq__',\n",
       " '__format__',\n",
       " '__ge__',\n",
       " '__getattribute__',\n",
       " '__getitem__',\n",
       " '__getnewargs__',\n",
       " '__gt__',\n",
       " '__hash__',\n",
       " '__init__',\n",
       " '__init_subclass__',\n",
       " '__iter__',\n",
       " '__le__',\n",
       " '__len__',\n",
       " '__lt__',\n",
       " '__mul__',\n",
       " '__ne__',\n",
       " '__new__',\n",
       " '__reduce__',\n",
       " '__reduce_ex__',\n",
       " '__repr__',\n",
       " '__rmul__',\n",
       " '__setattr__',\n",
       " '__sizeof__',\n",
       " '__str__',\n",
       " '__subclasshook__',\n",
       " 'count',\n",
       " 'index']"
      ]
     },
     "execution_count": 179,
     "metadata": {},
     "output_type": "execute_result"
    }
   ],
   "source": [
    "dir(t)"
   ]
  },
  {
   "cell_type": "code",
   "execution_count": 183,
   "id": "6da92ee1-aeff-4c00-a019-c3683dd55aee",
   "metadata": {},
   "outputs": [],
   "source": [
    "j = t +(12,57)"
   ]
  },
  {
   "cell_type": "code",
   "execution_count": 185,
   "id": "f79afcd0-a66c-4bfc-a158-49fd238c8d33",
   "metadata": {},
   "outputs": [
    {
     "data": {
      "text/plain": [
       "({1: 1, 2: 10}, [1, 2, 3], 5, 12, 57, 'Hola')"
      ]
     },
     "execution_count": 185,
     "metadata": {},
     "output_type": "execute_result"
    }
   ],
   "source": [
    "j + (\"Hola\",)"
   ]
  },
  {
   "cell_type": "markdown",
   "id": "0accba11",
   "metadata": {},
   "source": [
    "### Dictionary\n",
    "\n",
    "Los 3 principales metodos que vamos utilizar de los diccionarios son aquellos que devuelven sus elementos. Veamos."
   ]
  },
  {
   "cell_type": "code",
   "execution_count": 186,
   "id": "a3b90aa7-1cd4-47a2-b701-0a594f917f60",
   "metadata": {},
   "outputs": [
    {
     "data": {
      "text/plain": [
       "['__class__',\n",
       " '__class_getitem__',\n",
       " '__contains__',\n",
       " '__delattr__',\n",
       " '__delitem__',\n",
       " '__dir__',\n",
       " '__doc__',\n",
       " '__eq__',\n",
       " '__format__',\n",
       " '__ge__',\n",
       " '__getattribute__',\n",
       " '__getitem__',\n",
       " '__gt__',\n",
       " '__hash__',\n",
       " '__init__',\n",
       " '__init_subclass__',\n",
       " '__ior__',\n",
       " '__iter__',\n",
       " '__le__',\n",
       " '__len__',\n",
       " '__lt__',\n",
       " '__ne__',\n",
       " '__new__',\n",
       " '__or__',\n",
       " '__reduce__',\n",
       " '__reduce_ex__',\n",
       " '__repr__',\n",
       " '__reversed__',\n",
       " '__ror__',\n",
       " '__setattr__',\n",
       " '__setitem__',\n",
       " '__sizeof__',\n",
       " '__str__',\n",
       " '__subclasshook__',\n",
       " 'clear',\n",
       " 'copy',\n",
       " 'fromkeys',\n",
       " 'get',\n",
       " 'items',\n",
       " 'keys',\n",
       " 'pop',\n",
       " 'popitem',\n",
       " 'setdefault',\n",
       " 'update',\n",
       " 'values']"
      ]
     },
     "execution_count": 186,
     "metadata": {},
     "output_type": "execute_result"
    }
   ],
   "source": [
    "dir(dict)"
   ]
  },
  {
   "cell_type": "code",
   "execution_count": 263,
   "id": "8d5c6ceb-9b60-4cbc-8687-e7866e8ffdcc",
   "metadata": {},
   "outputs": [],
   "source": [
    "d = {1:2, 2:\"Hola\"}"
   ]
  },
  {
   "cell_type": "code",
   "execution_count": 264,
   "id": "e456c5ca-5a7d-4c3a-aed2-405506c2a19b",
   "metadata": {},
   "outputs": [
    {
     "data": {
      "text/plain": [
       "dict_keys([1, 2])"
      ]
     },
     "execution_count": 264,
     "metadata": {},
     "output_type": "execute_result"
    }
   ],
   "source": [
    "d.keys()"
   ]
  },
  {
   "cell_type": "code",
   "execution_count": 265,
   "id": "f790d835-7987-4280-9dd4-291da1b418b2",
   "metadata": {},
   "outputs": [
    {
     "data": {
      "text/plain": [
       "[1, 2]"
      ]
     },
     "execution_count": 265,
     "metadata": {},
     "output_type": "execute_result"
    }
   ],
   "source": [
    "list(d.keys())"
   ]
  },
  {
   "cell_type": "code",
   "execution_count": 266,
   "id": "b36be40c-cd87-4220-bf6d-02bc7718d6b2",
   "metadata": {},
   "outputs": [
    {
     "data": {
      "text/plain": [
       "dict_values([2, 'Hola'])"
      ]
     },
     "execution_count": 266,
     "metadata": {},
     "output_type": "execute_result"
    }
   ],
   "source": [
    "d.values()"
   ]
  },
  {
   "cell_type": "code",
   "execution_count": 267,
   "id": "7989ebcd-d262-40ba-a56f-b671e14e1b5e",
   "metadata": {},
   "outputs": [
    {
     "data": {
      "text/plain": [
       "dict_items([(1, 2), (2, 'Hola')])"
      ]
     },
     "execution_count": 267,
     "metadata": {},
     "output_type": "execute_result"
    }
   ],
   "source": [
    "d.items()"
   ]
  },
  {
   "cell_type": "markdown",
   "id": "6b12e6a1-fff4-47b7-8be1-b1f397c74d4f",
   "metadata": {},
   "source": [
    "Para añadir datos al diccionario, debemos indicar la `key` y el `value`"
   ]
  },
  {
   "cell_type": "code",
   "execution_count": 268,
   "id": "825ba46c-872b-4d32-8a0f-d250a1fa772c",
   "metadata": {},
   "outputs": [],
   "source": [
    "d[\"Saludo\"] = \"Good morning\""
   ]
  },
  {
   "cell_type": "code",
   "execution_count": 269,
   "id": "62d171e5-3166-4291-94e7-ee50ce686df9",
   "metadata": {},
   "outputs": [
    {
     "data": {
      "text/plain": [
       "{1: 2, 2: 'Hola', 'Saludo': 'Good morning'}"
      ]
     },
     "execution_count": 269,
     "metadata": {},
     "output_type": "execute_result"
    }
   ],
   "source": [
    "d"
   ]
  },
  {
   "cell_type": "code",
   "execution_count": 260,
   "id": "a23b15c9-3b7f-455b-b1de-2838195b935b",
   "metadata": {},
   "outputs": [],
   "source": [
    "d = {\"tipo\":type, \"tamaño\":len}"
   ]
  },
  {
   "cell_type": "code",
   "execution_count": 261,
   "id": "2a5dd168-7da6-4432-8c4a-421d21ae434c",
   "metadata": {},
   "outputs": [
    {
     "data": {
      "text/plain": [
       "{'tipo': type, 'tamaño': <function len(obj, /)>}"
      ]
     },
     "execution_count": 261,
     "metadata": {},
     "output_type": "execute_result"
    }
   ],
   "source": [
    "d"
   ]
  },
  {
   "cell_type": "code",
   "execution_count": 262,
   "id": "b4f54f72-3535-4e9d-82a2-ed0f024e39db",
   "metadata": {},
   "outputs": [
    {
     "name": "stdout",
     "output_type": "stream",
     "text": [
      "<class 'list'>\n",
      "4\n"
     ]
    }
   ],
   "source": [
    "for funcion in d.values():\n",
    "    if funcion([123,3,4,6]) != \"None\":\n",
    "        print(funcion([123,3,4,6]))"
   ]
  },
  {
   "cell_type": "markdown",
   "id": "e58f385d-4968-4880-812a-54f972efa989",
   "metadata": {},
   "source": [
    "La funcion `get` devuelve el `value` de la `key` indicada. Si esta no existe, devuelve el valor del segundo parametro"
   ]
  },
  {
   "cell_type": "code",
   "execution_count": 228,
   "id": "a1c8a10a-1db1-41c3-88a9-d9925ecbf149",
   "metadata": {},
   "outputs": [
    {
     "data": {
      "text/plain": [
       "'No existe'"
      ]
     },
     "execution_count": 228,
     "metadata": {},
     "output_type": "execute_result"
    }
   ],
   "source": [
    "d.get(5, \"No existe\")"
   ]
  },
  {
   "cell_type": "markdown",
   "id": "40377639",
   "metadata": {},
   "source": [
    "Como esos metodos devuelven listas, se pueden iterar por ellos."
   ]
  },
  {
   "cell_type": "code",
   "execution_count": 230,
   "id": "8b4f48de-3e92-472b-a358-fbfb939e3f78",
   "metadata": {},
   "outputs": [
    {
     "name": "stdout",
     "output_type": "stream",
     "text": [
      "Key:imprime \tValue:<built-in function print>\n",
      "Key:tamaño \tValue:<built-in function len>\n"
     ]
    }
   ],
   "source": [
    "for k,v in d.items():\n",
    "    print(f\"Key:{k} \\tValue:{v}\")"
   ]
  },
  {
   "cell_type": "markdown",
   "id": "5591c3bc",
   "metadata": {},
   "source": [
    "### Set\n",
    "\n",
    "Los sets también son un tipo de dato en python que contienen muchos métodos. Algunos de los de los más interesantes son aquellos que se relacionados con la noción matemática de los [conjuntos](https://en.wikipedia.org/wiki/Set_(mathematics))"
   ]
  },
  {
   "cell_type": "code",
   "execution_count": 231,
   "id": "95e30d6e-c368-47a1-9b37-3fa976177fcd",
   "metadata": {},
   "outputs": [
    {
     "data": {
      "text/plain": [
       "['__and__',\n",
       " '__class__',\n",
       " '__class_getitem__',\n",
       " '__contains__',\n",
       " '__delattr__',\n",
       " '__dir__',\n",
       " '__doc__',\n",
       " '__eq__',\n",
       " '__format__',\n",
       " '__ge__',\n",
       " '__getattribute__',\n",
       " '__gt__',\n",
       " '__hash__',\n",
       " '__iand__',\n",
       " '__init__',\n",
       " '__init_subclass__',\n",
       " '__ior__',\n",
       " '__isub__',\n",
       " '__iter__',\n",
       " '__ixor__',\n",
       " '__le__',\n",
       " '__len__',\n",
       " '__lt__',\n",
       " '__ne__',\n",
       " '__new__',\n",
       " '__or__',\n",
       " '__rand__',\n",
       " '__reduce__',\n",
       " '__reduce_ex__',\n",
       " '__repr__',\n",
       " '__ror__',\n",
       " '__rsub__',\n",
       " '__rxor__',\n",
       " '__setattr__',\n",
       " '__sizeof__',\n",
       " '__str__',\n",
       " '__sub__',\n",
       " '__subclasshook__',\n",
       " '__xor__',\n",
       " 'add',\n",
       " 'clear',\n",
       " 'copy',\n",
       " 'difference',\n",
       " 'difference_update',\n",
       " 'discard',\n",
       " 'intersection',\n",
       " 'intersection_update',\n",
       " 'isdisjoint',\n",
       " 'issubset',\n",
       " 'issuperset',\n",
       " 'pop',\n",
       " 'remove',\n",
       " 'symmetric_difference',\n",
       " 'symmetric_difference_update',\n",
       " 'union',\n",
       " 'update']"
      ]
     },
     "execution_count": 231,
     "metadata": {},
     "output_type": "execute_result"
    }
   ],
   "source": [
    "dir(set)"
   ]
  },
  {
   "cell_type": "markdown",
   "id": "59c65fb9-8896-4411-ade0-b5b40b6a229b",
   "metadata": {},
   "source": [
    "A la hora de definir el tipo de dato, si queremos definir un set, tenemos que hacerlo explicitamente, ya que comparte sintaxis con el diccionario"
   ]
  },
  {
   "cell_type": "code",
   "execution_count": 232,
   "id": "f83eb6ec-31c7-47b6-b158-652a6c6acc3b",
   "metadata": {},
   "outputs": [],
   "source": [
    "s = {}"
   ]
  },
  {
   "cell_type": "code",
   "execution_count": 233,
   "id": "a7704042-34e8-4c3c-8579-b69c3ef509c8",
   "metadata": {},
   "outputs": [
    {
     "data": {
      "text/plain": [
       "dict"
      ]
     },
     "execution_count": 233,
     "metadata": {},
     "output_type": "execute_result"
    }
   ],
   "source": [
    "type(s)"
   ]
  },
  {
   "cell_type": "code",
   "execution_count": 234,
   "id": "0c054e1d-70c0-48c3-8af3-768438f3a209",
   "metadata": {},
   "outputs": [],
   "source": [
    "s = set()"
   ]
  },
  {
   "cell_type": "code",
   "execution_count": 235,
   "id": "177d3b2d-1cd4-417b-b50d-163991711a74",
   "metadata": {},
   "outputs": [
    {
     "data": {
      "text/plain": [
       "set"
      ]
     },
     "execution_count": 235,
     "metadata": {},
     "output_type": "execute_result"
    }
   ],
   "source": [
    "type(s)"
   ]
  },
  {
   "cell_type": "code",
   "execution_count": 244,
   "id": "a189a1d7-d6fb-4a0a-b422-a0cad27be5f4",
   "metadata": {},
   "outputs": [],
   "source": [
    "numeros = {1,2,3,4,5,6,7,8,9,10,11}\n",
    "pares = set(range(0,11,2))"
   ]
  },
  {
   "cell_type": "code",
   "execution_count": 245,
   "id": "bffb2d72-5716-47f8-93c3-783825112a7e",
   "metadata": {},
   "outputs": [
    {
     "data": {
      "text/plain": [
       "{0, 2, 4, 6, 8, 10}"
      ]
     },
     "execution_count": 245,
     "metadata": {},
     "output_type": "execute_result"
    }
   ],
   "source": [
    "pares"
   ]
  },
  {
   "cell_type": "code",
   "execution_count": 246,
   "id": "c716184b-ce44-480e-ab08-757145c27bd3",
   "metadata": {},
   "outputs": [],
   "source": [
    "impares = set(range(1,11,2))"
   ]
  },
  {
   "cell_type": "code",
   "execution_count": 247,
   "id": "8947ff89-56d6-4b48-90e7-458fe341bf1e",
   "metadata": {},
   "outputs": [
    {
     "data": {
      "text/plain": [
       "{1, 3, 5, 7, 9}"
      ]
     },
     "execution_count": 247,
     "metadata": {},
     "output_type": "execute_result"
    }
   ],
   "source": [
    "impares"
   ]
  },
  {
   "cell_type": "code",
   "execution_count": 248,
   "id": "05b08f2a-698e-42b7-a79d-c3c190614337",
   "metadata": {},
   "outputs": [],
   "source": [
    "primos = {1,2,3,5,7,11}"
   ]
  },
  {
   "cell_type": "code",
   "execution_count": 249,
   "id": "5545e6cd-dab4-4d4e-a890-146db6e78161",
   "metadata": {},
   "outputs": [
    {
     "data": {
      "text/plain": [
       "True"
      ]
     },
     "execution_count": 249,
     "metadata": {},
     "output_type": "execute_result"
    }
   ],
   "source": [
    "primos.issubset(numeros)"
   ]
  },
  {
   "cell_type": "code",
   "execution_count": 250,
   "id": "8228a65f-8c5c-4088-9068-ce4a5fab8a84",
   "metadata": {},
   "outputs": [
    {
     "data": {
      "text/plain": [
       "False"
      ]
     },
     "execution_count": 250,
     "metadata": {},
     "output_type": "execute_result"
    }
   ],
   "source": [
    "numeros.issubset(primos)"
   ]
  },
  {
   "cell_type": "markdown",
   "id": "f1355002-e115-4fc4-b144-ed37d5eb0a57",
   "metadata": {},
   "source": [
    "Una propiedad de los `set` es que no puede haber valores repetidos."
   ]
  },
  {
   "cell_type": "code",
   "execution_count": 251,
   "id": "fc8320d3-9d9d-4985-bf1a-8c381d9e2ad6",
   "metadata": {},
   "outputs": [],
   "source": [
    "s = {1,1,1,1,1,1,1,1,1,1,1}"
   ]
  },
  {
   "cell_type": "code",
   "execution_count": 252,
   "id": "7a290948-9c69-48f5-97d9-a8b20e598d97",
   "metadata": {},
   "outputs": [
    {
     "data": {
      "text/plain": [
       "{1}"
      ]
     },
     "execution_count": 252,
     "metadata": {},
     "output_type": "execute_result"
    }
   ],
   "source": [
    "s"
   ]
  },
  {
   "cell_type": "code",
   "execution_count": 253,
   "id": "0e591f78-82e8-4c87-bede-1a84dcf1a712",
   "metadata": {},
   "outputs": [
    {
     "data": {
      "text/plain": [
       "{0, 1, 2, 3, 4, 5, 6, 7, 8, 9, 10}"
      ]
     },
     "execution_count": 253,
     "metadata": {},
     "output_type": "execute_result"
    }
   ],
   "source": [
    "pares.union(impares)"
   ]
  },
  {
   "cell_type": "markdown",
   "id": "f4a352f8",
   "metadata": {},
   "source": [
    "## Resources\n",
    "- [String methods](https://www.w3schools.com/python/python_ref_string.asp)\n",
    "- [List methods](https://www.w3schools.com/python/python_ref_list.asp)\n",
    "- [Tuple methods](https://www.w3schools.com/python/python_ref_tuple.asp)\n",
    "- [Dictionary methods](https://www.w3schools.com/python/python_ref_dictionary.asp)\n",
    "- [Set methods](https://www.w3schools.com/python/python_ref_set.asp)\n",
    "- [Python built-in methods](https://www.w3schools.com/python/python_ref_functions.asp)"
   ]
  }
 ],
 "metadata": {
  "kernelspec": {
   "display_name": "Python 3 (ipykernel)",
   "language": "python",
   "name": "python3"
  },
  "language_info": {
   "codemirror_mode": {
    "name": "ipython",
    "version": 3
   },
   "file_extension": ".py",
   "mimetype": "text/x-python",
   "name": "python",
   "nbconvert_exporter": "python",
   "pygments_lexer": "ipython3",
   "version": "3.9.7"
  },
  "toc": {
   "base_numbering": 1,
   "nav_menu": {},
   "number_sections": true,
   "sideBar": true,
   "skip_h1_title": true,
   "title_cell": "Table of Contents",
   "title_sidebar": "Contents",
   "toc_cell": true,
   "toc_position": {},
   "toc_section_display": true,
   "toc_window_display": false
  }
 },
 "nbformat": 4,
 "nbformat_minor": 5
}
